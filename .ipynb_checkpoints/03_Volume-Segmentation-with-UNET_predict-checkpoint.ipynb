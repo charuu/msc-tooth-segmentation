{
 "cells": [
  {
   "cell_type": "code",
   "execution_count": 1,
   "metadata": {
    "scrolled": false
   },
   "outputs": [],
   "source": [
    "import os\n",
    "os.environ[\"CUDA_VISIBLE_DEVICES\"] = \"3\""
   ]
  },
  {
   "cell_type": "code",
   "execution_count": 2,
   "metadata": {},
   "outputs": [
    {
     "name": "stderr",
     "output_type": "stream",
     "text": [
      "/home/jain0000/miniconda3/envs/segment1/lib/python3.7/site-packages/dicom/__init__.py:53: UserWarning: \n",
      "This code is using an older version of pydicom, which is no longer \n",
      "maintained as of Jan 2017.  You can access the new pydicom features and API \n",
      "by installing `pydicom` from PyPI.\n",
      "See 'Transitioning to pydicom 1.x' section at pydicom.readthedocs.org \n",
      "for more information.\n",
      "\n",
      "  warnings.warn(msg)\n"
     ]
    }
   ],
   "source": [
    "from tensorflow.keras.models import load_model\n",
    "import tensorflow as tf\n",
    "import nibabel as nib\n",
    "from niwidgets import NiftiWidget\n",
    "import numpy as np\n",
    "import matplotlib.pyplot as plt\n",
    "import cv2\n",
    "from config import *\n",
    "\n",
    "from sklearn.metrics import confusion_matrix, precision_score, recall_score, accuracy_score,confusion_matrix\n"
   ]
  },
  {
   "cell_type": "code",
   "execution_count": 3,
   "metadata": {
    "scrolled": false
   },
   "outputs": [],
   "source": [
    "# Define constants\n",
    "HOUNSFIELD_MIN = -1000\n",
    "HOUNSFIELD_MAX = 2000\n",
    "HOUNSFIELD_RANGE = HOUNSFIELD_MAX - HOUNSFIELD_MIN\n",
    "\n",
    "SLICE_X = True\n",
    "SLICE_Y = True\n",
    "SLICE_Z = False\n",
    "\n",
    "IMAGE_HEIGHT = 40\n",
    "IMAGE_WIDTH = 80\n",
    "IMG_SIZE = (IMAGE_HEIGHT, IMAGE_WIDTH)"
   ]
  },
  {
   "cell_type": "code",
   "execution_count": 4,
   "metadata": {
    "scrolled": false
   },
   "outputs": [],
   "source": [
    "def normalizeImageIntensityRange(img):\n",
    "    img[img < HOUNSFIELD_MIN] = HOUNSFIELD_MIN\n",
    "    img[img > HOUNSFIELD_MAX] = HOUNSFIELD_MAX\n",
    "    return (img - HOUNSFIELD_MIN)/HOUNSFIELD_RANGE"
   ]
  },
  {
   "cell_type": "code",
   "execution_count": 5,
   "metadata": {
    "scrolled": false
   },
   "outputs": [
    {
     "data": {
      "text/plain": [
       "memmap([[[0., 0., 0., ..., 0., 0., 0.],\n",
       "         [0., 0., 0., ..., 0., 0., 0.],\n",
       "         [0., 0., 0., ..., 0., 0., 0.],\n",
       "         ...,\n",
       "         [0., 0., 0., ..., 0., 0., 0.],\n",
       "         [0., 0., 0., ..., 0., 0., 0.],\n",
       "         [0., 0., 0., ..., 0., 0., 0.]],\n",
       "\n",
       "        [[0., 0., 0., ..., 0., 0., 0.],\n",
       "         [0., 0., 0., ..., 0., 0., 0.],\n",
       "         [0., 0., 0., ..., 0., 0., 0.],\n",
       "         ...,\n",
       "         [0., 0., 0., ..., 0., 0., 0.],\n",
       "         [0., 0., 0., ..., 0., 0., 0.],\n",
       "         [0., 0., 0., ..., 0., 0., 0.]],\n",
       "\n",
       "        [[0., 0., 0., ..., 0., 0., 0.],\n",
       "         [0., 0., 0., ..., 0., 0., 0.],\n",
       "         [0., 0., 0., ..., 0., 0., 0.],\n",
       "         ...,\n",
       "         [0., 0., 0., ..., 0., 0., 0.],\n",
       "         [0., 0., 0., ..., 0., 0., 0.],\n",
       "         [0., 0., 0., ..., 0., 0., 0.]],\n",
       "\n",
       "        ...,\n",
       "\n",
       "        [[0., 0., 0., ..., 0., 0., 0.],\n",
       "         [0., 0., 0., ..., 0., 0., 0.],\n",
       "         [0., 0., 0., ..., 0., 0., 0.],\n",
       "         ...,\n",
       "         [0., 0., 0., ..., 0., 0., 0.],\n",
       "         [0., 0., 0., ..., 0., 0., 0.],\n",
       "         [0., 0., 0., ..., 0., 0., 0.]],\n",
       "\n",
       "        [[0., 0., 0., ..., 0., 0., 0.],\n",
       "         [0., 0., 0., ..., 0., 0., 0.],\n",
       "         [0., 0., 0., ..., 0., 0., 0.],\n",
       "         ...,\n",
       "         [0., 0., 0., ..., 0., 0., 0.],\n",
       "         [0., 0., 0., ..., 0., 0., 0.],\n",
       "         [0., 0., 0., ..., 0., 0., 0.]],\n",
       "\n",
       "        [[0., 0., 0., ..., 0., 0., 0.],\n",
       "         [0., 0., 0., ..., 0., 0., 0.],\n",
       "         [0., 0., 0., ..., 0., 0., 0.],\n",
       "         ...,\n",
       "         [0., 0., 0., ..., 0., 0., 0.],\n",
       "         [0., 0., 0., ..., 0., 0., 0.],\n",
       "         [0., 0., 0., ..., 0., 0., 0.]]])"
      ]
     },
     "execution_count": 5,
     "metadata": {},
     "output_type": "execute_result"
    }
   ],
   "source": [
    "targetName = '29.11.92'\n",
    "targetImagePath = DATA_PATH + f'/test/image/image/{targetName}.nii'\n",
    "targetMaskPath  = DATA_PATH + f'/test/mask/mask/{targetName}.nii'\n",
    "\n",
    "imgTargetNii = nib.load(targetImagePath)\n",
    "imgMaskNii = nib.load(targetMaskPath)\n",
    "\n",
    "imgTarget = normalizeImageIntensityRange(imgTargetNii.get_fdata())\n",
    "imgMask = imgMaskNii.get_fdata()\n",
    "imgMask"
   ]
  },
  {
   "cell_type": "code",
   "execution_count": 6,
   "metadata": {},
   "outputs": [],
   "source": [
    "model = load_model('model/UNET-ToothSegmentation_40_80.h5')"
   ]
  },
  {
   "cell_type": "markdown",
   "metadata": {},
   "source": [
    "## Single slicing prediction"
   ]
  },
  {
   "cell_type": "code",
   "execution_count": 7,
   "metadata": {},
   "outputs": [],
   "source": [
    "def scaleImg(img, height, width):\n",
    "    return cv2.resize(img, dsize=(width, height), interpolation=cv2.INTER_LINEAR)"
   ]
  },
  {
   "cell_type": "code",
   "execution_count": 8,
   "metadata": {},
   "outputs": [],
   "source": [
    "sliceIndex = 30"
   ]
  },
  {
   "cell_type": "code",
   "execution_count": 9,
   "metadata": {},
   "outputs": [
    {
     "data": {
      "image/png": "[encoded data removed]",
      "text/plain": [
       "<Figure size 1080x1080 with 2 Axes>"
      ]
     },
     "metadata": {
      "needs_background": "light"
     },
     "output_type": "display_data"
    },
    {
     "data": {
      "text/plain": [
       "((60, 94), (40, 80))"
      ]
     },
     "execution_count": 9,
     "metadata": {},
     "output_type": "execute_result"
    }
   ],
   "source": [
    "# show input image slice\n",
    "plt.figure(figsize=(15,15))\n",
    "imgSlice = imgTarget[sliceIndex,:,:]\n",
    "imgDimX, imgDimY = imgSlice.shape\n",
    "imgSliceScaled = scaleImg(imgSlice, IMAGE_HEIGHT, IMAGE_WIDTH)\n",
    "plt.subplot(1,2,1)\n",
    "plt.imshow(imgSlice, cmap='gray')\n",
    "plt.subplot(1,2,2)\n",
    "plt.imshow(imgSliceScaled, cmap='gray')\n",
    "plt.show()\n",
    "imgSlice.shape, imgSliceScaled.shape"
   ]
  },
  {
   "cell_type": "code",
   "execution_count": 10,
   "metadata": {},
   "outputs": [
    {
     "data": {
      "image/png": "[encoded data removed]",
      "text/plain": [
       "<Figure size 1080x1080 with 2 Axes>"
      ]
     },
     "metadata": {
      "needs_background": "light"
     },
     "output_type": "display_data"
    },
    {
     "data": {
      "text/plain": [
       "((60, 94), (40, 80))"
      ]
     },
     "execution_count": 10,
     "metadata": {},
     "output_type": "execute_result"
    }
   ],
   "source": [
    "# show input mask slice\n",
    "plt.figure(figsize=(15,15))\n",
    "maskSlice = imgMask[sliceIndex,:,:]\n",
    "maskSliceScaled = scaleImg(maskSlice, IMAGE_HEIGHT, IMAGE_WIDTH)\n",
    "plt.subplot(1,2,1)\n",
    "plt.imshow(maskSlice, cmap='gray')\n",
    "plt.subplot(1,2,2)\n",
    "plt.imshow(maskSliceScaled, cmap='gray')\n",
    "plt.show()\n",
    "maskSlice.shape, maskSliceScaled.shape"
   ]
  },
  {
   "cell_type": "code",
   "execution_count": 11,
   "metadata": {},
   "outputs": [
    {
     "data": {
      "image/png": "[encoded data removed]",
      "text/plain": [
       "<Figure size 1080x1080 with 2 Axes>"
      ]
     },
     "metadata": {
      "needs_background": "light"
     },
     "output_type": "display_data"
    },
    {
     "data": {
      "text/plain": [
       "((60, 94), (40, 80))"
      ]
     },
     "execution_count": 11,
     "metadata": {},
     "output_type": "execute_result"
    }
   ],
   "source": [
    "# Predict with UNET model\n",
    "plt.figure(figsize=(15,15))\n",
    "imageInput = imgSliceScaled[np.newaxis,:,:,np.newaxis]\n",
    "maskPredict = model.predict(imageInput)[0,:,:,0]\n",
    "\n",
    "maskPredictScaled = scaleImg(maskPredict, imgDimX, imgDimY)\n",
    "plt.subplot(1,2,2)\n",
    "plt.imshow(maskPredict, cmap='gray')\n",
    "plt.subplot(1,2,1)\n",
    "plt.imshow(maskPredictScaled, cmap='gray')\n",
    "plt.show()\n",
    "maskPredictScaled.shape, maskPredict.shape"
   ]
  },
  {
   "cell_type": "markdown",
   "metadata": {},
   "source": [
    "## Predicting a full volume"
   ]
  },
  {
   "cell_type": "code",
   "execution_count": 12,
   "metadata": {},
   "outputs": [],
   "source": [
    "def predictVolume(inImg, toBin=True):\n",
    "    (xMax, yMax, zMax) = inImg.shape\n",
    "    \n",
    "    outImgX = np.zeros((xMax, yMax, zMax))\n",
    "    outImgY = np.zeros((xMax, yMax, zMax))\n",
    "    outImgZ = np.zeros((xMax, yMax, zMax))\n",
    "    \n",
    "    cnt = 0.0\n",
    "    if SLICE_X:\n",
    "        cnt += 1.0\n",
    "        for i in range(xMax):\n",
    "            img = scaleImg(inImg[i,:,:], IMAGE_HEIGHT, IMAGE_WIDTH)[np.newaxis,:,:,np.newaxis]\n",
    "            tmp = model.predict(img)[0,:,:,0]\n",
    "            outImgX[i,:,:] = scaleImg(tmp, yMax, zMax)\n",
    "    if SLICE_Y:\n",
    "        cnt += 1.0\n",
    "        for i in range(yMax):\n",
    "            img = scaleImg(inImg[:,i,:], IMAGE_HEIGHT, IMAGE_WIDTH)[np.newaxis,:,:,np.newaxis]\n",
    "            tmp = model.predict(img)[0,:,:,0]\n",
    "            outImgY[:,i,:] = scaleImg(tmp, xMax, zMax)\n",
    "    if SLICE_Z:\n",
    "        cnt += 1.0\n",
    "        for i in range(zMax):\n",
    "            img = scaleImg(inImg[:,:,i], IMAGE_HEIGHT, IMAGE_WIDTH)[np.newaxis,:,:,np.newaxis]\n",
    "            tmp = model.predict(img)[0,:,:,0]\n",
    "        \n",
    "            outImgZ[:,:,i] = scaleImg(tmp, xMax, yMax)\n",
    "        \n",
    "         \n",
    "    \n",
    "    outImg = (outImgX + outImgY + outImgZ)/cnt\n",
    "    \n",
    "    if(toBin):\n",
    "        outImg[outImg>0.5] = 1.0\n",
    "        outImg[outImg<=0.5] = 0.0\n",
    "    return outImg"
   ]
  },
  {
   "cell_type": "code",
   "execution_count": 13,
   "metadata": {},
   "outputs": [
    {
     "name": "stdout",
     "output_type": "stream",
     "text": [
      "Precision 0.8984254415076584 avg precision  0.7775616804782205  recall  0.9722507093481458  accuracy 0.9754432624113475\n"
     ]
    }
   ],
   "source": [
    "predImg = predictVolume(imgTarget)\n",
    "(xMax, yMax, zMax) = imgTarget.shape\n",
    "from sklearn.metrics import average_precision_score\n",
    "\n",
    "precision = precision_score(imgMask.flatten(), predImg.flatten(), average=\"macro\")\n",
    "recall = recall_score(imgMask.flatten(), predImg.flatten(), average=\"macro\")\n",
    "a = average_precision_score(imgMask.flatten(), predImg.flatten())\n",
    "b = accuracy_score(imgMask.flatten(), predImg.flatten())\n",
    "print(\"Precision\",precision,\"avg precision \",a,\" recall \",recall,\" accuracy\",b)\n",
    "    \n",
    "\n",
    "    "
   ]
  },
  {
   "cell_type": "code",
   "execution_count": 14,
   "metadata": {},
   "outputs": [
    {
     "data": {
      "text/plain": [
       "<Figure size 432x288 with 0 Axes>"
      ]
     },
     "metadata": {},
     "output_type": "display_data"
    },
    {
     "data": {
      "application/vnd.jupyter.widget-view+json": {
       "model_id": "df10a0e25fb54bcab971fe2d2462f365",
       "version_major": 2,
       "version_minor": 0
      },
      "text/plain": [
       "interactive(children=(IntSlider(value=40, continuous_update=False, description='x', max=81), IntSlider(value=2…"
      ]
     },
     "metadata": {},
     "output_type": "display_data"
    }
   ],
   "source": [
    "my_widget = NiftiWidget(imgTargetNii)\n",
    "my_widget.nifti_plotter(colormap='gray')"
   ]
  },
  {
   "cell_type": "code",
   "execution_count": 15,
   "metadata": {},
   "outputs": [
    {
     "data": {
      "text/plain": [
       "<Figure size 432x288 with 0 Axes>"
      ]
     },
     "metadata": {},
     "output_type": "display_data"
    },
    {
     "data": {
      "application/vnd.jupyter.widget-view+json": {
       "model_id": "3904de71a3ad4f08889caa0e0092265e",
       "version_major": 2,
       "version_minor": 0
      },
      "text/plain": [
       "interactive(children=(IntSlider(value=40, continuous_update=False, description='x', max=81), IntSlider(value=2…"
      ]
     },
     "metadata": {},
     "output_type": "display_data"
    }
   ],
   "source": [
    "my_widget = NiftiWidget(nib.dataobj_images.DataobjImage(predImg))\n",
    "my_widget.nifti_plotter(colormap='gray')"
   ]
  },
  {
   "cell_type": "code",
   "execution_count": 16,
   "metadata": {},
   "outputs": [
    {
     "data": {
      "text/plain": [
       "<Figure size 432x288 with 0 Axes>"
      ]
     },
     "metadata": {},
     "output_type": "display_data"
    },
    {
     "data": {
      "application/vnd.jupyter.widget-view+json": {
       "model_id": "8cdc817a8c81422993e893ae892ff39d",
       "version_major": 2,
       "version_minor": 0
      },
      "text/plain": [
       "interactive(children=(IntSlider(value=40, continuous_update=False, description='x', max=81), IntSlider(value=2…"
      ]
     },
     "metadata": {},
     "output_type": "display_data"
    }
   ],
   "source": [
    "my_widget = NiftiWidget(imgMaskNii)\n",
    "my_widget.nifti_plotter(colormap='gray')"
   ]
  },
  {
   "cell_type": "markdown",
   "metadata": {},
   "source": [
    "## Convert binary image to mesh"
   ]
  },
  {
   "cell_type": "code",
   "execution_count": 17,
   "metadata": {},
   "outputs": [],
   "source": [
    "from skimage.measure import marching_cubes_lewiner"
   ]
  },
  {
   "cell_type": "code",
   "execution_count": 18,
   "metadata": {},
   "outputs": [],
   "source": [
    "vertices,faces,_,_ = marching_cubes_lewiner(predImg)"
   ]
  },
  {
   "cell_type": "code",
   "execution_count": 19,
   "metadata": {},
   "outputs": [],
   "source": [
    "import meshplot as mp"
   ]
  },
  {
   "cell_type": "code",
   "execution_count": 21,
   "metadata": {},
   "outputs": [
    {
     "data": {
      "application/vnd.jupyter.widget-view+json": {
       "model_id": "d06b4398ae844757a80833e9b7caf68b",
       "version_major": 2,
       "version_minor": 0
      },
      "text/plain": [
       "Renderer(camera=PerspectiveCamera(children=(DirectionalLight(color='white', intensity=0.6, position=(40.5, 32.…"
      ]
     },
     "metadata": {},
     "output_type": "display_data"
    }
   ],
   "source": [
    "mp.plot(vertices, faces, return_plot=False)"
   ]
  },
  {
   "cell_type": "markdown",
   "metadata": {},
   "source": [
    "## Save mesh to file (.stl)"
   ]
  },
  {
   "cell_type": "code",
   "execution_count": 44,
   "metadata": {},
   "outputs": [],
   "source": [
    "from stl.stl import BaseStl\n",
    "from stl import mesh\n",
    "import math"
   ]
  },
  {
   "cell_type": "code",
   "execution_count": 45,
   "metadata": {},
   "outputs": [],
   "source": [
    "def dataToMesh(vert, faces):\n",
    "    mm = mesh.Mesh(np.zeros(faces.shape[0], dtype=mesh.Mesh.dtype))\n",
    "    for i, f in enumerate(faces):\n",
    "        for j in range(3):\n",
    "            mm.vectors[i][j] = -vert[f[j],:]\n",
    "   \n",
    "    return mm"
   ]
  },
  {
   "cell_type": "code",
   "execution_count": 46,
   "metadata": {},
   "outputs": [],
   "source": [
    "mm = dataToMesh(vertices, faces)\n",
    "mm.save('tooth-segmented-centered-2plane-20slices.stl')"
   ]
  },
  {
   "cell_type": "code",
   "execution_count": null,
   "metadata": {},
   "outputs": [],
   "source": []
  },
  {
   "cell_type": "code",
   "execution_count": null,
   "metadata": {},
   "outputs": [],
   "source": []
  }
 ],
 "metadata": {
  "kernelspec": {
   "display_name": "Python 3",
   "language": "python",
   "name": "python3"
  },
  "language_info": {
   "codemirror_mode": {
    "name": "ipython",
    "version": 3
   },
   "file_extension": ".py",
   "mimetype": "text/x-python",
   "name": "python",
   "nbconvert_exporter": "python",
   "pygments_lexer": "ipython3",
   "version": "3.7.7"
  }
 },
 "nbformat": 4,
 "nbformat_minor": 4
}
