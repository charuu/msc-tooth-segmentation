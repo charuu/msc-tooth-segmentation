{
 "cells": [
  {
   "cell_type": "code",
   "execution_count": 1,
   "metadata": {},
   "outputs": [
    {
     "name": "stderr",
     "output_type": "stream",
     "text": [
      "/home/jain0000/miniconda3/envs/segment1/lib/python3.7/site-packages/dicom/__init__.py:53: UserWarning: \n",
      "This code is using an older version of pydicom, which is no longer \n",
      "maintained as of Jan 2017.  You can access the new pydicom features and API \n",
      "by installing `pydicom` from PyPI.\n",
      "See 'Transitioning to pydicom 1.x' section at pydicom.readthedocs.org \n",
      "for more information.\n",
      "\n",
      "  warnings.warn(msg)\n"
     ]
    }
   ],
   "source": [
    "import os\n",
    "os.environ[\"CUDA_VISIBLE_DEVICES\"] = '0,1,2,3'\n",
    "import matplotlib.pyplot as plt\n",
    "import numpy as np\n",
    "import nibabel as nib\n",
    "from niwidgets import NiftiWidget\n",
    "import tensorflow as tf\n",
    "from tensorflow.keras.preprocessing.image import * \n",
    "from tensorflow import keras\n",
    "from config import *\n",
    "import math\n",
    "import cv2\n",
    "import random\n",
    "from skimage.transform import rescale, resize, downscale_local_mean,rotate\n",
    "import numpy as np\n",
    "from skimage.util import montage, crop\n",
    "from medio import read_img, save_img\n",
    "from tensorflow.python.client import device_lib\n",
    "from tensorflow.keras.metrics import MeanIoU,BinaryCrossentropy,Accuracy,Precision,Recall\n",
    "from tensorflow.keras.models import load_model\n",
    "from skimage.transform import rescale, resize, downscale_local_mean,rotate\n",
    "from skimage import data, color\n",
    "from scipy import ndimage\n",
    "from scipy import misc\n",
    "from numpy import fliplr\n",
    "\n"
   ]
  },
  {
   "cell_type": "code",
   "execution_count": 2,
   "metadata": {
    "scrolled": true
   },
   "outputs": [
    {
     "name": "stdout",
     "output_type": "stream",
     "text": [
      "UNET3D-ToothSegmentation-scale_0.5-rotation_None.h5\n",
      "(65, 53, 108)\n"
     ]
    },
    {
     "name": "stderr",
     "output_type": "stream",
     "text": [
      "The default mode, 'constant', will be changed to 'reflect' in skimage 0.15.\n",
      "The default multichannel argument (None) is deprecated.  Please specify either True or False explicitly.  multichannel will default to False starting with release 0.16.\n",
      "root        : DEBUG    Model: UNET3D-ToothSegmentation-scale_0.5-rotation_None.h5 ,Tooth sample : 29.6.67.nii,meanIOU : 0.2874687 , Accuracy : 0.3442348 , Precision : 0.17667076, Recall: 0.9386699, Binary cross entropy : 8.22402\n"
     ]
    },
    {
     "name": "stdout",
     "output_type": "stream",
     "text": [
      "meanIOU 0.2874687 Accuracy 0.3442348 Precision 0.17667076 Recall 0.9386699  Binary cross entropy 8.22402\n"
     ]
    },
    {
     "data": {
      "application/vnd.jupyter.widget-view+json": {
       "model_id": "c63b427d59da4323bec39b0a82f6bf3f",
       "version_major": 2,
       "version_minor": 0
      },
      "text/plain": [
       "Renderer(camera=PerspectiveCamera(children=(DirectionalLight(color='white', intensity=0.6, position=(32.0, 26.…"
      ]
     },
     "metadata": {},
     "output_type": "display_data"
    },
    {
     "name": "stdout",
     "output_type": "stream",
     "text": [
      "(50, 50, 100)\n"
     ]
    },
    {
     "name": "stderr",
     "output_type": "stream",
     "text": [
      "root        : DEBUG    Model: UNET3D-ToothSegmentation-scale_0.5-rotation_None.h5 ,Tooth sample : 14.8.93.nii,meanIOU : 0.6951386 , Accuracy : 0.85534215 , Precision : 0.76161844, Recall: 0.65870744, Binary cross entropy : 1.0655582\n",
      "root        : DEBUG    Model: UNET3D-ToothSegmentation-scale_0.5-rotation_None.h5 ,Tooth sample : 14.8.93.nii,meanIOU : 0.6951386 , Accuracy : 0.85534215 , Precision : 0.76161844, Recall: 0.65870744, Binary cross entropy : 1.0655582\n"
     ]
    },
    {
     "name": "stdout",
     "output_type": "stream",
     "text": [
      "meanIOU 0.6951386 Accuracy 0.85534215 Precision 0.76161844 Recall 0.65870744  Binary cross entropy 1.0655582\n"
     ]
    },
    {
     "data": {
      "application/vnd.jupyter.widget-view+json": {
       "model_id": "534d4dd57a6f43c49814203840702f74",
       "version_major": 2,
       "version_minor": 0
      },
      "text/plain": [
       "Renderer(camera=PerspectiveCamera(children=(DirectionalLight(color='white', intensity=0.6, position=(29.012499…"
      ]
     },
     "metadata": {},
     "output_type": "display_data"
    },
    {
     "name": "stdout",
     "output_type": "stream",
     "text": [
      "(82, 60, 94)\n"
     ]
    },
    {
     "name": "stderr",
     "output_type": "stream",
     "text": [
      "root        : DEBUG    Model: UNET3D-ToothSegmentation-scale_0.5-rotation_None.h5 ,Tooth sample : 29.11.92.nii,meanIOU : 0.89382315 , Accuracy : 0.9262606 , Precision : 0.8303597, Recall: 0.96898645, Binary cross entropy : 0.12156711\n",
      "root        : DEBUG    Model: UNET3D-ToothSegmentation-scale_0.5-rotation_None.h5 ,Tooth sample : 29.11.92.nii,meanIOU : 0.89382315 , Accuracy : 0.9262606 , Precision : 0.8303597, Recall: 0.96898645, Binary cross entropy : 0.12156711\n",
      "root        : DEBUG    Model: UNET3D-ToothSegmentation-scale_0.5-rotation_None.h5 ,Tooth sample : 29.11.92.nii,meanIOU : 0.89382315 , Accuracy : 0.9262606 , Precision : 0.8303597, Recall: 0.96898645, Binary cross entropy : 0.12156711\n"
     ]
    },
    {
     "name": "stdout",
     "output_type": "stream",
     "text": [
      "meanIOU 0.89382315 Accuracy 0.9262606 Precision 0.8303597 Recall 0.96898645  Binary cross entropy 0.12156711\n"
     ]
    },
    {
     "data": {
      "application/vnd.jupyter.widget-view+json": {
       "model_id": "25323921e7764ae1a0087d16b6baffab",
       "version_major": 2,
       "version_minor": 0
      },
      "text/plain": [
       "Renderer(camera=PerspectiveCamera(children=(DirectionalLight(color='white', intensity=0.6, position=(44.600000…"
      ]
     },
     "metadata": {},
     "output_type": "display_data"
    },
    {
     "name": "stdout",
     "output_type": "stream",
     "text": [
      "UNET3D-ToothSegmentation-scale_2.0-rotation_None.h5\n",
      "(65, 53, 108)\n"
     ]
    },
    {
     "name": "stderr",
     "output_type": "stream",
     "text": [
      "The default mode, 'constant', will be changed to 'reflect' in skimage 0.15.\n",
      "The default multichannel argument (None) is deprecated.  Please specify either True or False explicitly.  multichannel will default to False starting with release 0.16.\n",
      "root        : DEBUG    Model: UNET3D-ToothSegmentation-scale_2.0-rotation_None.h5 ,Tooth sample : 29.6.67.nii,meanIOU : 0.2665832 , Accuracy : 0.29512444 , Precision : 0.17122957, Recall: 0.9518018, Binary cross entropy : 8.702595\n",
      "root        : DEBUG    Model: UNET3D-ToothSegmentation-scale_2.0-rotation_None.h5 ,Tooth sample : 29.6.67.nii,meanIOU : 0.2665832 , Accuracy : 0.29512444 , Precision : 0.17122957, Recall: 0.9518018, Binary cross entropy : 8.702595\n",
      "root        : DEBUG    Model: UNET3D-ToothSegmentation-scale_2.0-rotation_None.h5 ,Tooth sample : 29.6.67.nii,meanIOU : 0.2665832 , Accuracy : 0.29512444 , Precision : 0.17122957, Recall: 0.9518018, Binary cross entropy : 8.702595\n",
      "root        : DEBUG    Model: UNET3D-ToothSegmentation-scale_2.0-rotation_None.h5 ,Tooth sample : 29.6.67.nii,meanIOU : 0.2665832 , Accuracy : 0.29512444 , Precision : 0.17122957, Recall: 0.9518018, Binary cross entropy : 8.702595\n"
     ]
    },
    {
     "name": "stdout",
     "output_type": "stream",
     "text": [
      "meanIOU 0.2665832 Accuracy 0.29512444 Precision 0.17122957 Recall 0.9518018  Binary cross entropy 8.702595\n"
     ]
    },
    {
     "data": {
      "application/vnd.jupyter.widget-view+json": {
       "model_id": "382a1ee01e214a618a7b0d07b91f6081",
       "version_major": 2,
       "version_minor": 0
      },
      "text/plain": [
       "Renderer(camera=PerspectiveCamera(children=(DirectionalLight(color='white', intensity=0.6, position=(32.0, 26.…"
      ]
     },
     "metadata": {},
     "output_type": "display_data"
    },
    {
     "name": "stdout",
     "output_type": "stream",
     "text": [
      "(50, 50, 100)\n"
     ]
    },
    {
     "name": "stderr",
     "output_type": "stream",
     "text": [
      "root        : DEBUG    Model: UNET3D-ToothSegmentation-scale_2.0-rotation_None.h5 ,Tooth sample : 14.8.93.nii,meanIOU : 0.6988956 , Accuracy : 0.8558685 , Precision : 0.7642914, Recall: 0.6618911, Binary cross entropy : 1.0466706\n",
      "root        : DEBUG    Model: UNET3D-ToothSegmentation-scale_2.0-rotation_None.h5 ,Tooth sample : 14.8.93.nii,meanIOU : 0.6988956 , Accuracy : 0.8558685 , Precision : 0.7642914, Recall: 0.6618911, Binary cross entropy : 1.0466706\n",
      "root        : DEBUG    Model: UNET3D-ToothSegmentation-scale_2.0-rotation_None.h5 ,Tooth sample : 14.8.93.nii,meanIOU : 0.6988956 , Accuracy : 0.8558685 , Precision : 0.7642914, Recall: 0.6618911, Binary cross entropy : 1.0466706\n",
      "root        : DEBUG    Model: UNET3D-ToothSegmentation-scale_2.0-rotation_None.h5 ,Tooth sample : 14.8.93.nii,meanIOU : 0.6988956 , Accuracy : 0.8558685 , Precision : 0.7642914, Recall: 0.6618911, Binary cross entropy : 1.0466706\n",
      "root        : DEBUG    Model: UNET3D-ToothSegmentation-scale_2.0-rotation_None.h5 ,Tooth sample : 14.8.93.nii,meanIOU : 0.6988956 , Accuracy : 0.8558685 , Precision : 0.7642914, Recall: 0.6618911, Binary cross entropy : 1.0466706\n"
     ]
    },
    {
     "name": "stdout",
     "output_type": "stream",
     "text": [
      "meanIOU 0.6988956 Accuracy 0.8558685 Precision 0.7642914 Recall 0.6618911  Binary cross entropy 1.0466706\n"
     ]
    },
    {
     "data": {
      "application/vnd.jupyter.widget-view+json": {
       "model_id": "02c6aebfbddf4a9e88144ddd4e60bf02",
       "version_major": 2,
       "version_minor": 0
      },
      "text/plain": [
       "Renderer(camera=PerspectiveCamera(children=(DirectionalLight(color='white', intensity=0.6, position=(24.095070…"
      ]
     },
     "metadata": {},
     "output_type": "display_data"
    },
    {
     "name": "stdout",
     "output_type": "stream",
     "text": [
      "(82, 60, 94)\n"
     ]
    },
    {
     "name": "stderr",
     "output_type": "stream",
     "text": [
      "root        : DEBUG    Model: UNET3D-ToothSegmentation-scale_2.0-rotation_None.h5 ,Tooth sample : 29.11.92.nii,meanIOU : 0.89018714 , Accuracy : 0.9245308 , Precision : 0.8361156, Recall: 0.9703841, Binary cross entropy : 0.11790733\n",
      "root        : DEBUG    Model: UNET3D-ToothSegmentation-scale_2.0-rotation_None.h5 ,Tooth sample : 29.11.92.nii,meanIOU : 0.89018714 , Accuracy : 0.9245308 , Precision : 0.8361156, Recall: 0.9703841, Binary cross entropy : 0.11790733\n",
      "root        : DEBUG    Model: UNET3D-ToothSegmentation-scale_2.0-rotation_None.h5 ,Tooth sample : 29.11.92.nii,meanIOU : 0.89018714 , Accuracy : 0.9245308 , Precision : 0.8361156, Recall: 0.9703841, Binary cross entropy : 0.11790733\n",
      "root        : DEBUG    Model: UNET3D-ToothSegmentation-scale_2.0-rotation_None.h5 ,Tooth sample : 29.11.92.nii,meanIOU : 0.89018714 , Accuracy : 0.9245308 , Precision : 0.8361156, Recall: 0.9703841, Binary cross entropy : 0.11790733\n",
      "root        : DEBUG    Model: UNET3D-ToothSegmentation-scale_2.0-rotation_None.h5 ,Tooth sample : 29.11.92.nii,meanIOU : 0.89018714 , Accuracy : 0.9245308 , Precision : 0.8361156, Recall: 0.9703841, Binary cross entropy : 0.11790733\n",
      "root        : DEBUG    Model: UNET3D-ToothSegmentation-scale_2.0-rotation_None.h5 ,Tooth sample : 29.11.92.nii,meanIOU : 0.89018714 , Accuracy : 0.9245308 , Precision : 0.8361156, Recall: 0.9703841, Binary cross entropy : 0.11790733\n"
     ]
    },
    {
     "name": "stdout",
     "output_type": "stream",
     "text": [
      "meanIOU 0.89018714 Accuracy 0.9245308 Precision 0.8361156 Recall 0.9703841  Binary cross entropy 0.11790733\n"
     ]
    },
    {
     "data": {
      "application/vnd.jupyter.widget-view+json": {
       "model_id": "1e80bd9e57ca4b2b8c679ac5bae05bca",
       "version_major": 2,
       "version_minor": 0
      },
      "text/plain": [
       "Renderer(camera=PerspectiveCamera(children=(DirectionalLight(color='white', intensity=0.6, position=(44.600000…"
      ]
     },
     "metadata": {},
     "output_type": "display_data"
    },
    {
     "name": "stdout",
     "output_type": "stream",
     "text": [
      "UNET3D-ToothSegmentation-scale_0.5-rotation_10.h5\n",
      "(65, 53, 108)\n"
     ]
    },
    {
     "name": "stderr",
     "output_type": "stream",
     "text": [
      "The default mode, 'constant', will be changed to 'reflect' in skimage 0.15.\n",
      "The default multichannel argument (None) is deprecated.  Please specify either True or False explicitly.  multichannel will default to False starting with release 0.16.\n",
      "root        : DEBUG    Model: UNET3D-ToothSegmentation-scale_0.5-rotation_10.h5 ,Tooth sample : 29.6.67.nii,meanIOU : 0.20596072 , Accuracy : 0.24523196 , Precision : 0.15774806, Recall: 1.0, Binary cross entropy : 10.139944\n",
      "root        : DEBUG    Model: UNET3D-ToothSegmentation-scale_0.5-rotation_10.h5 ,Tooth sample : 29.6.67.nii,meanIOU : 0.20596072 , Accuracy : 0.24523196 , Precision : 0.15774806, Recall: 1.0, Binary cross entropy : 10.139944\n",
      "root        : DEBUG    Model: UNET3D-ToothSegmentation-scale_0.5-rotation_10.h5 ,Tooth sample : 29.6.67.nii,meanIOU : 0.20596072 , Accuracy : 0.24523196 , Precision : 0.15774806, Recall: 1.0, Binary cross entropy : 10.139944\n",
      "root        : DEBUG    Model: UNET3D-ToothSegmentation-scale_0.5-rotation_10.h5 ,Tooth sample : 29.6.67.nii,meanIOU : 0.20596072 , Accuracy : 0.24523196 , Precision : 0.15774806, Recall: 1.0, Binary cross entropy : 10.139944\n",
      "root        : DEBUG    Model: UNET3D-ToothSegmentation-scale_0.5-rotation_10.h5 ,Tooth sample : 29.6.67.nii,meanIOU : 0.20596072 , Accuracy : 0.24523196 , Precision : 0.15774806, Recall: 1.0, Binary cross entropy : 10.139944\n",
      "root        : DEBUG    Model: UNET3D-ToothSegmentation-scale_0.5-rotation_10.h5 ,Tooth sample : 29.6.67.nii,meanIOU : 0.20596072 , Accuracy : 0.24523196 , Precision : 0.15774806, Recall: 1.0, Binary cross entropy : 10.139944\n",
      "root        : DEBUG    Model: UNET3D-ToothSegmentation-scale_0.5-rotation_10.h5 ,Tooth sample : 29.6.67.nii,meanIOU : 0.20596072 , Accuracy : 0.24523196 , Precision : 0.15774806, Recall: 1.0, Binary cross entropy : 10.139944\n"
     ]
    },
    {
     "name": "stdout",
     "output_type": "stream",
     "text": [
      "meanIOU 0.20596072 Accuracy 0.24523196 Precision 0.15774806 Recall 1.0  Binary cross entropy 10.139944\n"
     ]
    },
    {
     "data": {
      "application/vnd.jupyter.widget-view+json": {
       "model_id": "07627cd42cb24cdb99fcd15f1419356b",
       "version_major": 2,
       "version_minor": 0
      },
      "text/plain": [
       "Renderer(camera=PerspectiveCamera(children=(DirectionalLight(color='white', intensity=0.6, position=(32.063672…"
      ]
     },
     "metadata": {},
     "output_type": "display_data"
    },
    {
     "name": "stdout",
     "output_type": "stream",
     "text": [
      "(50, 50, 100)\n"
     ]
    },
    {
     "name": "stderr",
     "output_type": "stream",
     "text": [
      "root        : DEBUG    Model: UNET3D-ToothSegmentation-scale_0.5-rotation_10.h5 ,Tooth sample : 14.8.93.nii,meanIOU : 0.7030363 , Accuracy : 0.8600194 , Precision : 0.76922596, Recall: 0.65228695, Binary cross entropy : 1.0987953\n",
      "root        : DEBUG    Model: UNET3D-ToothSegmentation-scale_0.5-rotation_10.h5 ,Tooth sample : 14.8.93.nii,meanIOU : 0.7030363 , Accuracy : 0.8600194 , Precision : 0.76922596, Recall: 0.65228695, Binary cross entropy : 1.0987953\n",
      "root        : DEBUG    Model: UNET3D-ToothSegmentation-scale_0.5-rotation_10.h5 ,Tooth sample : 14.8.93.nii,meanIOU : 0.7030363 , Accuracy : 0.8600194 , Precision : 0.76922596, Recall: 0.65228695, Binary cross entropy : 1.0987953\n",
      "root        : DEBUG    Model: UNET3D-ToothSegmentation-scale_0.5-rotation_10.h5 ,Tooth sample : 14.8.93.nii,meanIOU : 0.7030363 , Accuracy : 0.8600194 , Precision : 0.76922596, Recall: 0.65228695, Binary cross entropy : 1.0987953\n",
      "root        : DEBUG    Model: UNET3D-ToothSegmentation-scale_0.5-rotation_10.h5 ,Tooth sample : 14.8.93.nii,meanIOU : 0.7030363 , Accuracy : 0.8600194 , Precision : 0.76922596, Recall: 0.65228695, Binary cross entropy : 1.0987953\n",
      "root        : DEBUG    Model: UNET3D-ToothSegmentation-scale_0.5-rotation_10.h5 ,Tooth sample : 14.8.93.nii,meanIOU : 0.7030363 , Accuracy : 0.8600194 , Precision : 0.76922596, Recall: 0.65228695, Binary cross entropy : 1.0987953\n",
      "root        : DEBUG    Model: UNET3D-ToothSegmentation-scale_0.5-rotation_10.h5 ,Tooth sample : 14.8.93.nii,meanIOU : 0.7030363 , Accuracy : 0.8600194 , Precision : 0.76922596, Recall: 0.65228695, Binary cross entropy : 1.0987953\n",
      "root        : DEBUG    Model: UNET3D-ToothSegmentation-scale_0.5-rotation_10.h5 ,Tooth sample : 14.8.93.nii,meanIOU : 0.7030363 , Accuracy : 0.8600194 , Precision : 0.76922596, Recall: 0.65228695, Binary cross entropy : 1.0987953\n"
     ]
    },
    {
     "name": "stdout",
     "output_type": "stream",
     "text": [
      "meanIOU 0.7030363 Accuracy 0.8600194 Precision 0.76922596 Recall 0.65228695  Binary cross entropy 1.0987953\n"
     ]
    },
    {
     "data": {
      "application/vnd.jupyter.widget-view+json": {
       "model_id": "76e0584636dc4c03a11895e208c468ce",
       "version_major": 2,
       "version_minor": 0
      },
      "text/plain": [
       "Renderer(camera=PerspectiveCamera(children=(DirectionalLight(color='white', intensity=0.6, position=(29.012499…"
      ]
     },
     "metadata": {},
     "output_type": "display_data"
    },
    {
     "name": "stdout",
     "output_type": "stream",
     "text": [
      "(82, 60, 94)\n"
     ]
    },
    {
     "name": "stderr",
     "output_type": "stream",
     "text": [
      "root        : DEBUG    Model: UNET3D-ToothSegmentation-scale_0.5-rotation_10.h5 ,Tooth sample : 29.11.92.nii,meanIOU : 0.87463486 , Accuracy : 0.9354199 , Precision : 0.89131033, Recall: 0.9352981, Binary cross entropy : 0.08714118\n",
      "root        : DEBUG    Model: UNET3D-ToothSegmentation-scale_0.5-rotation_10.h5 ,Tooth sample : 29.11.92.nii,meanIOU : 0.87463486 , Accuracy : 0.9354199 , Precision : 0.89131033, Recall: 0.9352981, Binary cross entropy : 0.08714118\n",
      "root        : DEBUG    Model: UNET3D-ToothSegmentation-scale_0.5-rotation_10.h5 ,Tooth sample : 29.11.92.nii,meanIOU : 0.87463486 , Accuracy : 0.9354199 , Precision : 0.89131033, Recall: 0.9352981, Binary cross entropy : 0.08714118\n",
      "root        : DEBUG    Model: UNET3D-ToothSegmentation-scale_0.5-rotation_10.h5 ,Tooth sample : 29.11.92.nii,meanIOU : 0.87463486 , Accuracy : 0.9354199 , Precision : 0.89131033, Recall: 0.9352981, Binary cross entropy : 0.08714118\n",
      "root        : DEBUG    Model: UNET3D-ToothSegmentation-scale_0.5-rotation_10.h5 ,Tooth sample : 29.11.92.nii,meanIOU : 0.87463486 , Accuracy : 0.9354199 , Precision : 0.89131033, Recall: 0.9352981, Binary cross entropy : 0.08714118\n",
      "root        : DEBUG    Model: UNET3D-ToothSegmentation-scale_0.5-rotation_10.h5 ,Tooth sample : 29.11.92.nii,meanIOU : 0.87463486 , Accuracy : 0.9354199 , Precision : 0.89131033, Recall: 0.9352981, Binary cross entropy : 0.08714118\n",
      "root        : DEBUG    Model: UNET3D-ToothSegmentation-scale_0.5-rotation_10.h5 ,Tooth sample : 29.11.92.nii,meanIOU : 0.87463486 , Accuracy : 0.9354199 , Precision : 0.89131033, Recall: 0.9352981, Binary cross entropy : 0.08714118\n",
      "root        : DEBUG    Model: UNET3D-ToothSegmentation-scale_0.5-rotation_10.h5 ,Tooth sample : 29.11.92.nii,meanIOU : 0.87463486 , Accuracy : 0.9354199 , Precision : 0.89131033, Recall: 0.9352981, Binary cross entropy : 0.08714118\n",
      "root        : DEBUG    Model: UNET3D-ToothSegmentation-scale_0.5-rotation_10.h5 ,Tooth sample : 29.11.92.nii,meanIOU : 0.87463486 , Accuracy : 0.9354199 , Precision : 0.89131033, Recall: 0.9352981, Binary cross entropy : 0.08714118\n"
     ]
    },
    {
     "name": "stdout",
     "output_type": "stream",
     "text": [
      "meanIOU 0.87463486 Accuracy 0.9354199 Precision 0.89131033 Recall 0.9352981  Binary cross entropy 0.08714118\n"
     ]
    },
    {
     "data": {
      "application/vnd.jupyter.widget-view+json": {
       "model_id": "9d6f15a732644de1b7612ea72678c3fb",
       "version_major": 2,
       "version_minor": 0
      },
      "text/plain": [
       "Renderer(camera=PerspectiveCamera(children=(DirectionalLight(color='white', intensity=0.6, position=(46.547093…"
      ]
     },
     "metadata": {},
     "output_type": "display_data"
    },
    {
     "name": "stdout",
     "output_type": "stream",
     "text": [
      "UNET3D-ToothSegmentation-scale_2.0-rotation_10.h5\n",
      "(65, 53, 108)\n"
     ]
    },
    {
     "name": "stderr",
     "output_type": "stream",
     "text": [
      "The default mode, 'constant', will be changed to 'reflect' in skimage 0.15.\n",
      "The default multichannel argument (None) is deprecated.  Please specify either True or False explicitly.  multichannel will default to False starting with release 0.16.\n",
      "root        : DEBUG    Model: UNET3D-ToothSegmentation-scale_2.0-rotation_10.h5 ,Tooth sample : 29.6.67.nii,meanIOU : 0.25452256 , Accuracy : 0.31007633 , Precision : 0.17119296, Recall: 0.99802095, Binary cross entropy : 9.052817\n",
      "root        : DEBUG    Model: UNET3D-ToothSegmentation-scale_2.0-rotation_10.h5 ,Tooth sample : 29.6.67.nii,meanIOU : 0.25452256 , Accuracy : 0.31007633 , Precision : 0.17119296, Recall: 0.99802095, Binary cross entropy : 9.052817\n",
      "root        : DEBUG    Model: UNET3D-ToothSegmentation-scale_2.0-rotation_10.h5 ,Tooth sample : 29.6.67.nii,meanIOU : 0.25452256 , Accuracy : 0.31007633 , Precision : 0.17119296, Recall: 0.99802095, Binary cross entropy : 9.052817\n",
      "root        : DEBUG    Model: UNET3D-ToothSegmentation-scale_2.0-rotation_10.h5 ,Tooth sample : 29.6.67.nii,meanIOU : 0.25452256 , Accuracy : 0.31007633 , Precision : 0.17119296, Recall: 0.99802095, Binary cross entropy : 9.052817\n",
      "root        : DEBUG    Model: UNET3D-ToothSegmentation-scale_2.0-rotation_10.h5 ,Tooth sample : 29.6.67.nii,meanIOU : 0.25452256 , Accuracy : 0.31007633 , Precision : 0.17119296, Recall: 0.99802095, Binary cross entropy : 9.052817\n",
      "root        : DEBUG    Model: UNET3D-ToothSegmentation-scale_2.0-rotation_10.h5 ,Tooth sample : 29.6.67.nii,meanIOU : 0.25452256 , Accuracy : 0.31007633 , Precision : 0.17119296, Recall: 0.99802095, Binary cross entropy : 9.052817\n",
      "root        : DEBUG    Model: UNET3D-ToothSegmentation-scale_2.0-rotation_10.h5 ,Tooth sample : 29.6.67.nii,meanIOU : 0.25452256 , Accuracy : 0.31007633 , Precision : 0.17119296, Recall: 0.99802095, Binary cross entropy : 9.052817\n",
      "root        : DEBUG    Model: UNET3D-ToothSegmentation-scale_2.0-rotation_10.h5 ,Tooth sample : 29.6.67.nii,meanIOU : 0.25452256 , Accuracy : 0.31007633 , Precision : 0.17119296, Recall: 0.99802095, Binary cross entropy : 9.052817\n",
      "root        : DEBUG    Model: UNET3D-ToothSegmentation-scale_2.0-rotation_10.h5 ,Tooth sample : 29.6.67.nii,meanIOU : 0.25452256 , Accuracy : 0.31007633 , Precision : 0.17119296, Recall: 0.99802095, Binary cross entropy : 9.052817\n",
      "root        : DEBUG    Model: UNET3D-ToothSegmentation-scale_2.0-rotation_10.h5 ,Tooth sample : 29.6.67.nii,meanIOU : 0.25452256 , Accuracy : 0.31007633 , Precision : 0.17119296, Recall: 0.99802095, Binary cross entropy : 9.052817\n"
     ]
    },
    {
     "name": "stdout",
     "output_type": "stream",
     "text": [
      "meanIOU 0.25452256 Accuracy 0.31007633 Precision 0.17119296 Recall 0.99802095  Binary cross entropy 9.052817\n"
     ]
    },
    {
     "data": {
      "application/vnd.jupyter.widget-view+json": {
       "model_id": "0083e3393d224c74a942406b0a1e3360",
       "version_major": 2,
       "version_minor": 0
      },
      "text/plain": [
       "Renderer(camera=PerspectiveCamera(children=(DirectionalLight(color='white', intensity=0.6, position=(32.0, 26.…"
      ]
     },
     "metadata": {},
     "output_type": "display_data"
    },
    {
     "name": "stdout",
     "output_type": "stream",
     "text": [
      "(50, 50, 100)\n"
     ]
    },
    {
     "name": "stderr",
     "output_type": "stream",
     "text": [
      "root        : DEBUG    Model: UNET3D-ToothSegmentation-scale_2.0-rotation_10.h5 ,Tooth sample : 14.8.93.nii,meanIOU : 0.72276884 , Accuracy : 0.8630991 , Precision : 0.7725926, Recall: 0.698822, Binary cross entropy : 0.981847\n",
      "root        : DEBUG    Model: UNET3D-ToothSegmentation-scale_2.0-rotation_10.h5 ,Tooth sample : 14.8.93.nii,meanIOU : 0.72276884 , Accuracy : 0.8630991 , Precision : 0.7725926, Recall: 0.698822, Binary cross entropy : 0.981847\n",
      "root        : DEBUG    Model: UNET3D-ToothSegmentation-scale_2.0-rotation_10.h5 ,Tooth sample : 14.8.93.nii,meanIOU : 0.72276884 , Accuracy : 0.8630991 , Precision : 0.7725926, Recall: 0.698822, Binary cross entropy : 0.981847\n",
      "root        : DEBUG    Model: UNET3D-ToothSegmentation-scale_2.0-rotation_10.h5 ,Tooth sample : 14.8.93.nii,meanIOU : 0.72276884 , Accuracy : 0.8630991 , Precision : 0.7725926, Recall: 0.698822, Binary cross entropy : 0.981847\n",
      "root        : DEBUG    Model: UNET3D-ToothSegmentation-scale_2.0-rotation_10.h5 ,Tooth sample : 14.8.93.nii,meanIOU : 0.72276884 , Accuracy : 0.8630991 , Precision : 0.7725926, Recall: 0.698822, Binary cross entropy : 0.981847\n",
      "root        : DEBUG    Model: UNET3D-ToothSegmentation-scale_2.0-rotation_10.h5 ,Tooth sample : 14.8.93.nii,meanIOU : 0.72276884 , Accuracy : 0.8630991 , Precision : 0.7725926, Recall: 0.698822, Binary cross entropy : 0.981847\n",
      "root        : DEBUG    Model: UNET3D-ToothSegmentation-scale_2.0-rotation_10.h5 ,Tooth sample : 14.8.93.nii,meanIOU : 0.72276884 , Accuracy : 0.8630991 , Precision : 0.7725926, Recall: 0.698822, Binary cross entropy : 0.981847\n",
      "root        : DEBUG    Model: UNET3D-ToothSegmentation-scale_2.0-rotation_10.h5 ,Tooth sample : 14.8.93.nii,meanIOU : 0.72276884 , Accuracy : 0.8630991 , Precision : 0.7725926, Recall: 0.698822, Binary cross entropy : 0.981847\n",
      "root        : DEBUG    Model: UNET3D-ToothSegmentation-scale_2.0-rotation_10.h5 ,Tooth sample : 14.8.93.nii,meanIOU : 0.72276884 , Accuracy : 0.8630991 , Precision : 0.7725926, Recall: 0.698822, Binary cross entropy : 0.981847\n",
      "root        : DEBUG    Model: UNET3D-ToothSegmentation-scale_2.0-rotation_10.h5 ,Tooth sample : 14.8.93.nii,meanIOU : 0.72276884 , Accuracy : 0.8630991 , Precision : 0.7725926, Recall: 0.698822, Binary cross entropy : 0.981847\n",
      "root        : DEBUG    Model: UNET3D-ToothSegmentation-scale_2.0-rotation_10.h5 ,Tooth sample : 14.8.93.nii,meanIOU : 0.72276884 , Accuracy : 0.8630991 , Precision : 0.7725926, Recall: 0.698822, Binary cross entropy : 0.981847\n"
     ]
    },
    {
     "name": "stdout",
     "output_type": "stream",
     "text": [
      "meanIOU 0.72276884 Accuracy 0.8630991 Precision 0.7725926 Recall 0.698822  Binary cross entropy 0.981847\n"
     ]
    },
    {
     "data": {
      "application/vnd.jupyter.widget-view+json": {
       "model_id": "6a9cae783dcf4ad08ac0230915c4dc2d",
       "version_major": 2,
       "version_minor": 0
      },
      "text/plain": [
       "Renderer(camera=PerspectiveCamera(children=(DirectionalLight(color='white', intensity=0.6, position=(27.804545…"
      ]
     },
     "metadata": {},
     "output_type": "display_data"
    },
    {
     "name": "stdout",
     "output_type": "stream",
     "text": [
      "(82, 60, 94)\n"
     ]
    },
    {
     "name": "stderr",
     "output_type": "stream",
     "text": [
      "root        : DEBUG    Model: UNET3D-ToothSegmentation-scale_2.0-rotation_10.h5 ,Tooth sample : 29.11.92.nii,meanIOU : 0.8813757 , Accuracy : 0.9218107 , Precision : 0.78941184, Recall: 0.9550822, Binary cross entropy : 0.19060794\n",
      "root        : DEBUG    Model: UNET3D-ToothSegmentation-scale_2.0-rotation_10.h5 ,Tooth sample : 29.11.92.nii,meanIOU : 0.8813757 , Accuracy : 0.9218107 , Precision : 0.78941184, Recall: 0.9550822, Binary cross entropy : 0.19060794\n",
      "root        : DEBUG    Model: UNET3D-ToothSegmentation-scale_2.0-rotation_10.h5 ,Tooth sample : 29.11.92.nii,meanIOU : 0.8813757 , Accuracy : 0.9218107 , Precision : 0.78941184, Recall: 0.9550822, Binary cross entropy : 0.19060794\n",
      "root        : DEBUG    Model: UNET3D-ToothSegmentation-scale_2.0-rotation_10.h5 ,Tooth sample : 29.11.92.nii,meanIOU : 0.8813757 , Accuracy : 0.9218107 , Precision : 0.78941184, Recall: 0.9550822, Binary cross entropy : 0.19060794\n",
      "root        : DEBUG    Model: UNET3D-ToothSegmentation-scale_2.0-rotation_10.h5 ,Tooth sample : 29.11.92.nii,meanIOU : 0.8813757 , Accuracy : 0.9218107 , Precision : 0.78941184, Recall: 0.9550822, Binary cross entropy : 0.19060794\n",
      "root        : DEBUG    Model: UNET3D-ToothSegmentation-scale_2.0-rotation_10.h5 ,Tooth sample : 29.11.92.nii,meanIOU : 0.8813757 , Accuracy : 0.9218107 , Precision : 0.78941184, Recall: 0.9550822, Binary cross entropy : 0.19060794\n",
      "root        : DEBUG    Model: UNET3D-ToothSegmentation-scale_2.0-rotation_10.h5 ,Tooth sample : 29.11.92.nii,meanIOU : 0.8813757 , Accuracy : 0.9218107 , Precision : 0.78941184, Recall: 0.9550822, Binary cross entropy : 0.19060794\n",
      "root        : DEBUG    Model: UNET3D-ToothSegmentation-scale_2.0-rotation_10.h5 ,Tooth sample : 29.11.92.nii,meanIOU : 0.8813757 , Accuracy : 0.9218107 , Precision : 0.78941184, Recall: 0.9550822, Binary cross entropy : 0.19060794\n",
      "root        : DEBUG    Model: UNET3D-ToothSegmentation-scale_2.0-rotation_10.h5 ,Tooth sample : 29.11.92.nii,meanIOU : 0.8813757 , Accuracy : 0.9218107 , Precision : 0.78941184, Recall: 0.9550822, Binary cross entropy : 0.19060794\n",
      "root        : DEBUG    Model: UNET3D-ToothSegmentation-scale_2.0-rotation_10.h5 ,Tooth sample : 29.11.92.nii,meanIOU : 0.8813757 , Accuracy : 0.9218107 , Precision : 0.78941184, Recall: 0.9550822, Binary cross entropy : 0.19060794\n",
      "root        : DEBUG    Model: UNET3D-ToothSegmentation-scale_2.0-rotation_10.h5 ,Tooth sample : 29.11.92.nii,meanIOU : 0.8813757 , Accuracy : 0.9218107 , Precision : 0.78941184, Recall: 0.9550822, Binary cross entropy : 0.19060794\n",
      "root        : DEBUG    Model: UNET3D-ToothSegmentation-scale_2.0-rotation_10.h5 ,Tooth sample : 29.11.92.nii,meanIOU : 0.8813757 , Accuracy : 0.9218107 , Precision : 0.78941184, Recall: 0.9550822, Binary cross entropy : 0.19060794\n"
     ]
    },
    {
     "name": "stdout",
     "output_type": "stream",
     "text": [
      "meanIOU 0.8813757 Accuracy 0.9218107 Precision 0.78941184 Recall 0.9550822  Binary cross entropy 0.19060794\n"
     ]
    },
    {
     "data": {
      "application/vnd.jupyter.widget-view+json": {
       "model_id": "12d6a587bf734f59bd75b4a9616c7fb6",
       "version_major": 2,
       "version_minor": 0
      },
      "text/plain": [
       "Renderer(camera=PerspectiveCamera(children=(DirectionalLight(color='white', intensity=0.6, position=(45.624998…"
      ]
     },
     "metadata": {},
     "output_type": "display_data"
    },
    {
     "name": "stdout",
     "output_type": "stream",
     "text": [
      "UNET3D-ToothSegmentation-scale_None-rotation_None.h5\n",
      "(65, 53, 108)\n"
     ]
    },
    {
     "name": "stderr",
     "output_type": "stream",
     "text": [
      "The default mode, 'constant', will be changed to 'reflect' in skimage 0.15.\n",
      "The default multichannel argument (None) is deprecated.  Please specify either True or False explicitly.  multichannel will default to False starting with release 0.16.\n",
      "root        : DEBUG    Model: UNET3D-ToothSegmentation-scale_None-rotation_None.h5 ,Tooth sample : 29.6.67.nii,meanIOU : 0.26422948 , Accuracy : 0.2847014 , Precision : 0.16972972, Recall: 0.95155436, Binary cross entropy : 8.7568865\n",
      "root        : DEBUG    Model: UNET3D-ToothSegmentation-scale_None-rotation_None.h5 ,Tooth sample : 29.6.67.nii,meanIOU : 0.26422948 , Accuracy : 0.2847014 , Precision : 0.16972972, Recall: 0.95155436, Binary cross entropy : 8.7568865\n",
      "root        : DEBUG    Model: UNET3D-ToothSegmentation-scale_None-rotation_None.h5 ,Tooth sample : 29.6.67.nii,meanIOU : 0.26422948 , Accuracy : 0.2847014 , Precision : 0.16972972, Recall: 0.95155436, Binary cross entropy : 8.7568865\n",
      "root        : DEBUG    Model: UNET3D-ToothSegmentation-scale_None-rotation_None.h5 ,Tooth sample : 29.6.67.nii,meanIOU : 0.26422948 , Accuracy : 0.2847014 , Precision : 0.16972972, Recall: 0.95155436, Binary cross entropy : 8.7568865\n",
      "root        : DEBUG    Model: UNET3D-ToothSegmentation-scale_None-rotation_None.h5 ,Tooth sample : 29.6.67.nii,meanIOU : 0.26422948 , Accuracy : 0.2847014 , Precision : 0.16972972, Recall: 0.95155436, Binary cross entropy : 8.7568865\n",
      "root        : DEBUG    Model: UNET3D-ToothSegmentation-scale_None-rotation_None.h5 ,Tooth sample : 29.6.67.nii,meanIOU : 0.26422948 , Accuracy : 0.2847014 , Precision : 0.16972972, Recall: 0.95155436, Binary cross entropy : 8.7568865\n",
      "root        : DEBUG    Model: UNET3D-ToothSegmentation-scale_None-rotation_None.h5 ,Tooth sample : 29.6.67.nii,meanIOU : 0.26422948 , Accuracy : 0.2847014 , Precision : 0.16972972, Recall: 0.95155436, Binary cross entropy : 8.7568865\n",
      "root        : DEBUG    Model: UNET3D-ToothSegmentation-scale_None-rotation_None.h5 ,Tooth sample : 29.6.67.nii,meanIOU : 0.26422948 , Accuracy : 0.2847014 , Precision : 0.16972972, Recall: 0.95155436, Binary cross entropy : 8.7568865\n",
      "root        : DEBUG    Model: UNET3D-ToothSegmentation-scale_None-rotation_None.h5 ,Tooth sample : 29.6.67.nii,meanIOU : 0.26422948 , Accuracy : 0.2847014 , Precision : 0.16972972, Recall: 0.95155436, Binary cross entropy : 8.7568865\n",
      "root        : DEBUG    Model: UNET3D-ToothSegmentation-scale_None-rotation_None.h5 ,Tooth sample : 29.6.67.nii,meanIOU : 0.26422948 , Accuracy : 0.2847014 , Precision : 0.16972972, Recall: 0.95155436, Binary cross entropy : 8.7568865\n",
      "root        : DEBUG    Model: UNET3D-ToothSegmentation-scale_None-rotation_None.h5 ,Tooth sample : 29.6.67.nii,meanIOU : 0.26422948 , Accuracy : 0.2847014 , Precision : 0.16972972, Recall: 0.95155436, Binary cross entropy : 8.7568865\n",
      "root        : DEBUG    Model: UNET3D-ToothSegmentation-scale_None-rotation_None.h5 ,Tooth sample : 29.6.67.nii,meanIOU : 0.26422948 , Accuracy : 0.2847014 , Precision : 0.16972972, Recall: 0.95155436, Binary cross entropy : 8.7568865\n",
      "root        : DEBUG    Model: UNET3D-ToothSegmentation-scale_None-rotation_None.h5 ,Tooth sample : 29.6.67.nii,meanIOU : 0.26422948 , Accuracy : 0.2847014 , Precision : 0.16972972, Recall: 0.95155436, Binary cross entropy : 8.7568865\n"
     ]
    },
    {
     "name": "stdout",
     "output_type": "stream",
     "text": [
      "meanIOU 0.26422948 Accuracy 0.2847014 Precision 0.16972972 Recall 0.95155436  Binary cross entropy 8.7568865\n"
     ]
    },
    {
     "data": {
      "application/vnd.jupyter.widget-view+json": {
       "model_id": "3c2bd191f2664a52ade72f820d8a8a4b",
       "version_major": 2,
       "version_minor": 0
      },
      "text/plain": [
       "Renderer(camera=PerspectiveCamera(children=(DirectionalLight(color='white', intensity=0.6, position=(32.063672…"
      ]
     },
     "metadata": {},
     "output_type": "display_data"
    },
    {
     "name": "stdout",
     "output_type": "stream",
     "text": [
      "(50, 50, 100)\n"
     ]
    },
    {
     "name": "stderr",
     "output_type": "stream",
     "text": [
      "root        : DEBUG    Model: UNET3D-ToothSegmentation-scale_None-rotation_None.h5 ,Tooth sample : 14.8.93.nii,meanIOU : 0.68559146 , Accuracy : 0.85772 , Precision : 0.7788682, Recall: 0.631699, Binary cross entropy : 1.0731497\n",
      "root        : DEBUG    Model: UNET3D-ToothSegmentation-scale_None-rotation_None.h5 ,Tooth sample : 14.8.93.nii,meanIOU : 0.68559146 , Accuracy : 0.85772 , Precision : 0.7788682, Recall: 0.631699, Binary cross entropy : 1.0731497\n",
      "root        : DEBUG    Model: UNET3D-ToothSegmentation-scale_None-rotation_None.h5 ,Tooth sample : 14.8.93.nii,meanIOU : 0.68559146 , Accuracy : 0.85772 , Precision : 0.7788682, Recall: 0.631699, Binary cross entropy : 1.0731497\n",
      "root        : DEBUG    Model: UNET3D-ToothSegmentation-scale_None-rotation_None.h5 ,Tooth sample : 14.8.93.nii,meanIOU : 0.68559146 , Accuracy : 0.85772 , Precision : 0.7788682, Recall: 0.631699, Binary cross entropy : 1.0731497\n",
      "root        : DEBUG    Model: UNET3D-ToothSegmentation-scale_None-rotation_None.h5 ,Tooth sample : 14.8.93.nii,meanIOU : 0.68559146 , Accuracy : 0.85772 , Precision : 0.7788682, Recall: 0.631699, Binary cross entropy : 1.0731497\n",
      "root        : DEBUG    Model: UNET3D-ToothSegmentation-scale_None-rotation_None.h5 ,Tooth sample : 14.8.93.nii,meanIOU : 0.68559146 , Accuracy : 0.85772 , Precision : 0.7788682, Recall: 0.631699, Binary cross entropy : 1.0731497\n",
      "root        : DEBUG    Model: UNET3D-ToothSegmentation-scale_None-rotation_None.h5 ,Tooth sample : 14.8.93.nii,meanIOU : 0.68559146 , Accuracy : 0.85772 , Precision : 0.7788682, Recall: 0.631699, Binary cross entropy : 1.0731497\n",
      "root        : DEBUG    Model: UNET3D-ToothSegmentation-scale_None-rotation_None.h5 ,Tooth sample : 14.8.93.nii,meanIOU : 0.68559146 , Accuracy : 0.85772 , Precision : 0.7788682, Recall: 0.631699, Binary cross entropy : 1.0731497\n",
      "root        : DEBUG    Model: UNET3D-ToothSegmentation-scale_None-rotation_None.h5 ,Tooth sample : 14.8.93.nii,meanIOU : 0.68559146 , Accuracy : 0.85772 , Precision : 0.7788682, Recall: 0.631699, Binary cross entropy : 1.0731497\n",
      "root        : DEBUG    Model: UNET3D-ToothSegmentation-scale_None-rotation_None.h5 ,Tooth sample : 14.8.93.nii,meanIOU : 0.68559146 , Accuracy : 0.85772 , Precision : 0.7788682, Recall: 0.631699, Binary cross entropy : 1.0731497\n",
      "root        : DEBUG    Model: UNET3D-ToothSegmentation-scale_None-rotation_None.h5 ,Tooth sample : 14.8.93.nii,meanIOU : 0.68559146 , Accuracy : 0.85772 , Precision : 0.7788682, Recall: 0.631699, Binary cross entropy : 1.0731497\n",
      "root        : DEBUG    Model: UNET3D-ToothSegmentation-scale_None-rotation_None.h5 ,Tooth sample : 14.8.93.nii,meanIOU : 0.68559146 , Accuracy : 0.85772 , Precision : 0.7788682, Recall: 0.631699, Binary cross entropy : 1.0731497\n",
      "root        : DEBUG    Model: UNET3D-ToothSegmentation-scale_None-rotation_None.h5 ,Tooth sample : 14.8.93.nii,meanIOU : 0.68559146 , Accuracy : 0.85772 , Precision : 0.7788682, Recall: 0.631699, Binary cross entropy : 1.0731497\n",
      "root        : DEBUG    Model: UNET3D-ToothSegmentation-scale_None-rotation_None.h5 ,Tooth sample : 14.8.93.nii,meanIOU : 0.68559146 , Accuracy : 0.85772 , Precision : 0.7788682, Recall: 0.631699, Binary cross entropy : 1.0731497\n"
     ]
    },
    {
     "name": "stdout",
     "output_type": "stream",
     "text": [
      "meanIOU 0.68559146 Accuracy 0.85772 Precision 0.7788682 Recall 0.631699  Binary cross entropy 1.0731497\n"
     ]
    },
    {
     "data": {
      "application/vnd.jupyter.widget-view+json": {
       "model_id": "b11ca0b3819a410996df8fbd810cabf3",
       "version_major": 2,
       "version_minor": 0
      },
      "text/plain": [
       "Renderer(camera=PerspectiveCamera(children=(DirectionalLight(color='white', intensity=0.6, position=(28.517699…"
      ]
     },
     "metadata": {},
     "output_type": "display_data"
    },
    {
     "name": "stdout",
     "output_type": "stream",
     "text": [
      "(82, 60, 94)\n"
     ]
    },
    {
     "name": "stderr",
     "output_type": "stream",
     "text": [
      "root        : DEBUG    Model: UNET3D-ToothSegmentation-scale_None-rotation_None.h5 ,Tooth sample : 29.11.92.nii,meanIOU : 0.87589276 , Accuracy : 0.9332058 , Precision : 0.88974625, Recall: 0.9447202, Binary cross entropy : 0.086681634\n",
      "root        : DEBUG    Model: UNET3D-ToothSegmentation-scale_None-rotation_None.h5 ,Tooth sample : 29.11.92.nii,meanIOU : 0.87589276 , Accuracy : 0.9332058 , Precision : 0.88974625, Recall: 0.9447202, Binary cross entropy : 0.086681634\n",
      "root        : DEBUG    Model: UNET3D-ToothSegmentation-scale_None-rotation_None.h5 ,Tooth sample : 29.11.92.nii,meanIOU : 0.87589276 , Accuracy : 0.9332058 , Precision : 0.88974625, Recall: 0.9447202, Binary cross entropy : 0.086681634\n",
      "root        : DEBUG    Model: UNET3D-ToothSegmentation-scale_None-rotation_None.h5 ,Tooth sample : 29.11.92.nii,meanIOU : 0.87589276 , Accuracy : 0.9332058 , Precision : 0.88974625, Recall: 0.9447202, Binary cross entropy : 0.086681634\n",
      "root        : DEBUG    Model: UNET3D-ToothSegmentation-scale_None-rotation_None.h5 ,Tooth sample : 29.11.92.nii,meanIOU : 0.87589276 , Accuracy : 0.9332058 , Precision : 0.88974625, Recall: 0.9447202, Binary cross entropy : 0.086681634\n",
      "root        : DEBUG    Model: UNET3D-ToothSegmentation-scale_None-rotation_None.h5 ,Tooth sample : 29.11.92.nii,meanIOU : 0.87589276 , Accuracy : 0.9332058 , Precision : 0.88974625, Recall: 0.9447202, Binary cross entropy : 0.086681634\n",
      "root        : DEBUG    Model: UNET3D-ToothSegmentation-scale_None-rotation_None.h5 ,Tooth sample : 29.11.92.nii,meanIOU : 0.87589276 , Accuracy : 0.9332058 , Precision : 0.88974625, Recall: 0.9447202, Binary cross entropy : 0.086681634\n",
      "root        : DEBUG    Model: UNET3D-ToothSegmentation-scale_None-rotation_None.h5 ,Tooth sample : 29.11.92.nii,meanIOU : 0.87589276 , Accuracy : 0.9332058 , Precision : 0.88974625, Recall: 0.9447202, Binary cross entropy : 0.086681634\n",
      "root        : DEBUG    Model: UNET3D-ToothSegmentation-scale_None-rotation_None.h5 ,Tooth sample : 29.11.92.nii,meanIOU : 0.87589276 , Accuracy : 0.9332058 , Precision : 0.88974625, Recall: 0.9447202, Binary cross entropy : 0.086681634\n",
      "root        : DEBUG    Model: UNET3D-ToothSegmentation-scale_None-rotation_None.h5 ,Tooth sample : 29.11.92.nii,meanIOU : 0.87589276 , Accuracy : 0.9332058 , Precision : 0.88974625, Recall: 0.9447202, Binary cross entropy : 0.086681634\n",
      "root        : DEBUG    Model: UNET3D-ToothSegmentation-scale_None-rotation_None.h5 ,Tooth sample : 29.11.92.nii,meanIOU : 0.87589276 , Accuracy : 0.9332058 , Precision : 0.88974625, Recall: 0.9447202, Binary cross entropy : 0.086681634\n",
      "root        : DEBUG    Model: UNET3D-ToothSegmentation-scale_None-rotation_None.h5 ,Tooth sample : 29.11.92.nii,meanIOU : 0.87589276 , Accuracy : 0.9332058 , Precision : 0.88974625, Recall: 0.9447202, Binary cross entropy : 0.086681634\n",
      "root        : DEBUG    Model: UNET3D-ToothSegmentation-scale_None-rotation_None.h5 ,Tooth sample : 29.11.92.nii,meanIOU : 0.87589276 , Accuracy : 0.9332058 , Precision : 0.88974625, Recall: 0.9447202, Binary cross entropy : 0.086681634\n",
      "root        : DEBUG    Model: UNET3D-ToothSegmentation-scale_None-rotation_None.h5 ,Tooth sample : 29.11.92.nii,meanIOU : 0.87589276 , Accuracy : 0.9332058 , Precision : 0.88974625, Recall: 0.9447202, Binary cross entropy : 0.086681634\n",
      "root        : DEBUG    Model: UNET3D-ToothSegmentation-scale_None-rotation_None.h5 ,Tooth sample : 29.11.92.nii,meanIOU : 0.87589276 , Accuracy : 0.9332058 , Precision : 0.88974625, Recall: 0.9447202, Binary cross entropy : 0.086681634\n"
     ]
    },
    {
     "name": "stdout",
     "output_type": "stream",
     "text": [
      "meanIOU 0.87589276 Accuracy 0.9332058 Precision 0.88974625 Recall 0.9447202  Binary cross entropy 0.086681634\n"
     ]
    },
    {
     "data": {
      "application/vnd.jupyter.widget-view+json": {
       "model_id": "e52492246e2044958330b5801d8186d6",
       "version_major": 2,
       "version_minor": 0
      },
      "text/plain": [
       "Renderer(camera=PerspectiveCamera(children=(DirectionalLight(color='white', intensity=0.6, position=(44.600000…"
      ]
     },
     "metadata": {},
     "output_type": "display_data"
    },
    {
     "name": "stdout",
     "output_type": "stream",
     "text": [
      "UNET3D-ToothSegmentation-scale_0.25-rotation_10.h5\n",
      "(65, 53, 108)\n"
     ]
    },
    {
     "name": "stderr",
     "output_type": "stream",
     "text": [
      "The default mode, 'constant', will be changed to 'reflect' in skimage 0.15.\n",
      "The default multichannel argument (None) is deprecated.  Please specify either True or False explicitly.  multichannel will default to False starting with release 0.16.\n",
      "root        : DEBUG    Model: UNET3D-ToothSegmentation-scale_0.25-rotation_10.h5 ,Tooth sample : 29.6.67.nii,meanIOU : 0.16024216 , Accuracy : 0.22430253 , Precision : 0.1479999, Recall: 1.0, Binary cross entropy : 11.150045\n",
      "root        : DEBUG    Model: UNET3D-ToothSegmentation-scale_0.25-rotation_10.h5 ,Tooth sample : 29.6.67.nii,meanIOU : 0.16024216 , Accuracy : 0.22430253 , Precision : 0.1479999, Recall: 1.0, Binary cross entropy : 11.150045\n",
      "root        : DEBUG    Model: UNET3D-ToothSegmentation-scale_0.25-rotation_10.h5 ,Tooth sample : 29.6.67.nii,meanIOU : 0.16024216 , Accuracy : 0.22430253 , Precision : 0.1479999, Recall: 1.0, Binary cross entropy : 11.150045\n",
      "root        : DEBUG    Model: UNET3D-ToothSegmentation-scale_0.25-rotation_10.h5 ,Tooth sample : 29.6.67.nii,meanIOU : 0.16024216 , Accuracy : 0.22430253 , Precision : 0.1479999, Recall: 1.0, Binary cross entropy : 11.150045\n",
      "root        : DEBUG    Model: UNET3D-ToothSegmentation-scale_0.25-rotation_10.h5 ,Tooth sample : 29.6.67.nii,meanIOU : 0.16024216 , Accuracy : 0.22430253 , Precision : 0.1479999, Recall: 1.0, Binary cross entropy : 11.150045\n",
      "root        : DEBUG    Model: UNET3D-ToothSegmentation-scale_0.25-rotation_10.h5 ,Tooth sample : 29.6.67.nii,meanIOU : 0.16024216 , Accuracy : 0.22430253 , Precision : 0.1479999, Recall: 1.0, Binary cross entropy : 11.150045\n",
      "root        : DEBUG    Model: UNET3D-ToothSegmentation-scale_0.25-rotation_10.h5 ,Tooth sample : 29.6.67.nii,meanIOU : 0.16024216 , Accuracy : 0.22430253 , Precision : 0.1479999, Recall: 1.0, Binary cross entropy : 11.150045\n",
      "root        : DEBUG    Model: UNET3D-ToothSegmentation-scale_0.25-rotation_10.h5 ,Tooth sample : 29.6.67.nii,meanIOU : 0.16024216 , Accuracy : 0.22430253 , Precision : 0.1479999, Recall: 1.0, Binary cross entropy : 11.150045\n",
      "root        : DEBUG    Model: UNET3D-ToothSegmentation-scale_0.25-rotation_10.h5 ,Tooth sample : 29.6.67.nii,meanIOU : 0.16024216 , Accuracy : 0.22430253 , Precision : 0.1479999, Recall: 1.0, Binary cross entropy : 11.150045\n",
      "root        : DEBUG    Model: UNET3D-ToothSegmentation-scale_0.25-rotation_10.h5 ,Tooth sample : 29.6.67.nii,meanIOU : 0.16024216 , Accuracy : 0.22430253 , Precision : 0.1479999, Recall: 1.0, Binary cross entropy : 11.150045\n",
      "root        : DEBUG    Model: UNET3D-ToothSegmentation-scale_0.25-rotation_10.h5 ,Tooth sample : 29.6.67.nii,meanIOU : 0.16024216 , Accuracy : 0.22430253 , Precision : 0.1479999, Recall: 1.0, Binary cross entropy : 11.150045\n",
      "root        : DEBUG    Model: UNET3D-ToothSegmentation-scale_0.25-rotation_10.h5 ,Tooth sample : 29.6.67.nii,meanIOU : 0.16024216 , Accuracy : 0.22430253 , Precision : 0.1479999, Recall: 1.0, Binary cross entropy : 11.150045\n",
      "root        : DEBUG    Model: UNET3D-ToothSegmentation-scale_0.25-rotation_10.h5 ,Tooth sample : 29.6.67.nii,meanIOU : 0.16024216 , Accuracy : 0.22430253 , Precision : 0.1479999, Recall: 1.0, Binary cross entropy : 11.150045\n",
      "root        : DEBUG    Model: UNET3D-ToothSegmentation-scale_0.25-rotation_10.h5 ,Tooth sample : 29.6.67.nii,meanIOU : 0.16024216 , Accuracy : 0.22430253 , Precision : 0.1479999, Recall: 1.0, Binary cross entropy : 11.150045\n",
      "root        : DEBUG    Model: UNET3D-ToothSegmentation-scale_0.25-rotation_10.h5 ,Tooth sample : 29.6.67.nii,meanIOU : 0.16024216 , Accuracy : 0.22430253 , Precision : 0.1479999, Recall: 1.0, Binary cross entropy : 11.150045\n",
      "root        : DEBUG    Model: UNET3D-ToothSegmentation-scale_0.25-rotation_10.h5 ,Tooth sample : 29.6.67.nii,meanIOU : 0.16024216 , Accuracy : 0.22430253 , Precision : 0.1479999, Recall: 1.0, Binary cross entropy : 11.150045\n"
     ]
    },
    {
     "name": "stdout",
     "output_type": "stream",
     "text": [
      "meanIOU 0.16024216 Accuracy 0.22430253 Precision 0.1479999 Recall 1.0  Binary cross entropy 11.150045\n"
     ]
    },
    {
     "data": {
      "application/vnd.jupyter.widget-view+json": {
       "model_id": "411d83bf846548fc9cafef7ed1940a14",
       "version_major": 2,
       "version_minor": 0
      },
      "text/plain": [
       "Renderer(camera=PerspectiveCamera(children=(DirectionalLight(color='white', intensity=0.6, position=(32.0, 26.…"
      ]
     },
     "metadata": {},
     "output_type": "display_data"
    },
    {
     "name": "stdout",
     "output_type": "stream",
     "text": [
      "(50, 50, 100)\n"
     ]
    },
    {
     "name": "stderr",
     "output_type": "stream",
     "text": [
      "root        : DEBUG    Model: UNET3D-ToothSegmentation-scale_0.25-rotation_10.h5 ,Tooth sample : 14.8.93.nii,meanIOU : 0.69538975 , Accuracy : 0.86364394 , Precision : 0.79994625, Recall: 0.631646, Binary cross entropy : 1.0645281\n",
      "root        : DEBUG    Model: UNET3D-ToothSegmentation-scale_0.25-rotation_10.h5 ,Tooth sample : 14.8.93.nii,meanIOU : 0.69538975 , Accuracy : 0.86364394 , Precision : 0.79994625, Recall: 0.631646, Binary cross entropy : 1.0645281\n",
      "root        : DEBUG    Model: UNET3D-ToothSegmentation-scale_0.25-rotation_10.h5 ,Tooth sample : 14.8.93.nii,meanIOU : 0.69538975 , Accuracy : 0.86364394 , Precision : 0.79994625, Recall: 0.631646, Binary cross entropy : 1.0645281\n",
      "root        : DEBUG    Model: UNET3D-ToothSegmentation-scale_0.25-rotation_10.h5 ,Tooth sample : 14.8.93.nii,meanIOU : 0.69538975 , Accuracy : 0.86364394 , Precision : 0.79994625, Recall: 0.631646, Binary cross entropy : 1.0645281\n",
      "root        : DEBUG    Model: UNET3D-ToothSegmentation-scale_0.25-rotation_10.h5 ,Tooth sample : 14.8.93.nii,meanIOU : 0.69538975 , Accuracy : 0.86364394 , Precision : 0.79994625, Recall: 0.631646, Binary cross entropy : 1.0645281\n",
      "root        : DEBUG    Model: UNET3D-ToothSegmentation-scale_0.25-rotation_10.h5 ,Tooth sample : 14.8.93.nii,meanIOU : 0.69538975 , Accuracy : 0.86364394 , Precision : 0.79994625, Recall: 0.631646, Binary cross entropy : 1.0645281\n",
      "root        : DEBUG    Model: UNET3D-ToothSegmentation-scale_0.25-rotation_10.h5 ,Tooth sample : 14.8.93.nii,meanIOU : 0.69538975 , Accuracy : 0.86364394 , Precision : 0.79994625, Recall: 0.631646, Binary cross entropy : 1.0645281\n",
      "root        : DEBUG    Model: UNET3D-ToothSegmentation-scale_0.25-rotation_10.h5 ,Tooth sample : 14.8.93.nii,meanIOU : 0.69538975 , Accuracy : 0.86364394 , Precision : 0.79994625, Recall: 0.631646, Binary cross entropy : 1.0645281\n",
      "root        : DEBUG    Model: UNET3D-ToothSegmentation-scale_0.25-rotation_10.h5 ,Tooth sample : 14.8.93.nii,meanIOU : 0.69538975 , Accuracy : 0.86364394 , Precision : 0.79994625, Recall: 0.631646, Binary cross entropy : 1.0645281\n",
      "root        : DEBUG    Model: UNET3D-ToothSegmentation-scale_0.25-rotation_10.h5 ,Tooth sample : 14.8.93.nii,meanIOU : 0.69538975 , Accuracy : 0.86364394 , Precision : 0.79994625, Recall: 0.631646, Binary cross entropy : 1.0645281\n",
      "root        : DEBUG    Model: UNET3D-ToothSegmentation-scale_0.25-rotation_10.h5 ,Tooth sample : 14.8.93.nii,meanIOU : 0.69538975 , Accuracy : 0.86364394 , Precision : 0.79994625, Recall: 0.631646, Binary cross entropy : 1.0645281\n",
      "root        : DEBUG    Model: UNET3D-ToothSegmentation-scale_0.25-rotation_10.h5 ,Tooth sample : 14.8.93.nii,meanIOU : 0.69538975 , Accuracy : 0.86364394 , Precision : 0.79994625, Recall: 0.631646, Binary cross entropy : 1.0645281\n",
      "root        : DEBUG    Model: UNET3D-ToothSegmentation-scale_0.25-rotation_10.h5 ,Tooth sample : 14.8.93.nii,meanIOU : 0.69538975 , Accuracy : 0.86364394 , Precision : 0.79994625, Recall: 0.631646, Binary cross entropy : 1.0645281\n",
      "root        : DEBUG    Model: UNET3D-ToothSegmentation-scale_0.25-rotation_10.h5 ,Tooth sample : 14.8.93.nii,meanIOU : 0.69538975 , Accuracy : 0.86364394 , Precision : 0.79994625, Recall: 0.631646, Binary cross entropy : 1.0645281\n",
      "root        : DEBUG    Model: UNET3D-ToothSegmentation-scale_0.25-rotation_10.h5 ,Tooth sample : 14.8.93.nii,meanIOU : 0.69538975 , Accuracy : 0.86364394 , Precision : 0.79994625, Recall: 0.631646, Binary cross entropy : 1.0645281\n",
      "root        : DEBUG    Model: UNET3D-ToothSegmentation-scale_0.25-rotation_10.h5 ,Tooth sample : 14.8.93.nii,meanIOU : 0.69538975 , Accuracy : 0.86364394 , Precision : 0.79994625, Recall: 0.631646, Binary cross entropy : 1.0645281\n",
      "root        : DEBUG    Model: UNET3D-ToothSegmentation-scale_0.25-rotation_10.h5 ,Tooth sample : 14.8.93.nii,meanIOU : 0.69538975 , Accuracy : 0.86364394 , Precision : 0.79994625, Recall: 0.631646, Binary cross entropy : 1.0645281\n"
     ]
    },
    {
     "name": "stdout",
     "output_type": "stream",
     "text": [
      "meanIOU 0.69538975 Accuracy 0.86364394 Precision 0.79994625 Recall 0.631646  Binary cross entropy 1.0645281\n"
     ]
    },
    {
     "data": {
      "application/vnd.jupyter.widget-view+json": {
       "model_id": "6439e3c8d9aa4f528b580b1e0f61072e",
       "version_major": 2,
       "version_minor": 0
      },
      "text/plain": [
       "Renderer(camera=PerspectiveCamera(children=(DirectionalLight(color='white', intensity=0.6, position=(28.414383…"
      ]
     },
     "metadata": {},
     "output_type": "display_data"
    },
    {
     "name": "stdout",
     "output_type": "stream",
     "text": [
      "(82, 60, 94)\n"
     ]
    },
    {
     "name": "stderr",
     "output_type": "stream",
     "text": [
      "root        : DEBUG    Model: UNET3D-ToothSegmentation-scale_0.25-rotation_10.h5 ,Tooth sample : 29.11.92.nii,meanIOU : 0.87661254 , Accuracy : 0.9353983 , Precision : 0.87873894, Recall: 0.93093646, Binary cross entropy : 0.10161803\n",
      "root        : DEBUG    Model: UNET3D-ToothSegmentation-scale_0.25-rotation_10.h5 ,Tooth sample : 29.11.92.nii,meanIOU : 0.87661254 , Accuracy : 0.9353983 , Precision : 0.87873894, Recall: 0.93093646, Binary cross entropy : 0.10161803\n",
      "root        : DEBUG    Model: UNET3D-ToothSegmentation-scale_0.25-rotation_10.h5 ,Tooth sample : 29.11.92.nii,meanIOU : 0.87661254 , Accuracy : 0.9353983 , Precision : 0.87873894, Recall: 0.93093646, Binary cross entropy : 0.10161803\n",
      "root        : DEBUG    Model: UNET3D-ToothSegmentation-scale_0.25-rotation_10.h5 ,Tooth sample : 29.11.92.nii,meanIOU : 0.87661254 , Accuracy : 0.9353983 , Precision : 0.87873894, Recall: 0.93093646, Binary cross entropy : 0.10161803\n",
      "root        : DEBUG    Model: UNET3D-ToothSegmentation-scale_0.25-rotation_10.h5 ,Tooth sample : 29.11.92.nii,meanIOU : 0.87661254 , Accuracy : 0.9353983 , Precision : 0.87873894, Recall: 0.93093646, Binary cross entropy : 0.10161803\n",
      "root        : DEBUG    Model: UNET3D-ToothSegmentation-scale_0.25-rotation_10.h5 ,Tooth sample : 29.11.92.nii,meanIOU : 0.87661254 , Accuracy : 0.9353983 , Precision : 0.87873894, Recall: 0.93093646, Binary cross entropy : 0.10161803\n",
      "root        : DEBUG    Model: UNET3D-ToothSegmentation-scale_0.25-rotation_10.h5 ,Tooth sample : 29.11.92.nii,meanIOU : 0.87661254 , Accuracy : 0.9353983 , Precision : 0.87873894, Recall: 0.93093646, Binary cross entropy : 0.10161803\n",
      "root        : DEBUG    Model: UNET3D-ToothSegmentation-scale_0.25-rotation_10.h5 ,Tooth sample : 29.11.92.nii,meanIOU : 0.87661254 , Accuracy : 0.9353983 , Precision : 0.87873894, Recall: 0.93093646, Binary cross entropy : 0.10161803\n",
      "root        : DEBUG    Model: UNET3D-ToothSegmentation-scale_0.25-rotation_10.h5 ,Tooth sample : 29.11.92.nii,meanIOU : 0.87661254 , Accuracy : 0.9353983 , Precision : 0.87873894, Recall: 0.93093646, Binary cross entropy : 0.10161803\n",
      "root        : DEBUG    Model: UNET3D-ToothSegmentation-scale_0.25-rotation_10.h5 ,Tooth sample : 29.11.92.nii,meanIOU : 0.87661254 , Accuracy : 0.9353983 , Precision : 0.87873894, Recall: 0.93093646, Binary cross entropy : 0.10161803\n",
      "root        : DEBUG    Model: UNET3D-ToothSegmentation-scale_0.25-rotation_10.h5 ,Tooth sample : 29.11.92.nii,meanIOU : 0.87661254 , Accuracy : 0.9353983 , Precision : 0.87873894, Recall: 0.93093646, Binary cross entropy : 0.10161803\n",
      "root        : DEBUG    Model: UNET3D-ToothSegmentation-scale_0.25-rotation_10.h5 ,Tooth sample : 29.11.92.nii,meanIOU : 0.87661254 , Accuracy : 0.9353983 , Precision : 0.87873894, Recall: 0.93093646, Binary cross entropy : 0.10161803\n",
      "root        : DEBUG    Model: UNET3D-ToothSegmentation-scale_0.25-rotation_10.h5 ,Tooth sample : 29.11.92.nii,meanIOU : 0.87661254 , Accuracy : 0.9353983 , Precision : 0.87873894, Recall: 0.93093646, Binary cross entropy : 0.10161803\n",
      "root        : DEBUG    Model: UNET3D-ToothSegmentation-scale_0.25-rotation_10.h5 ,Tooth sample : 29.11.92.nii,meanIOU : 0.87661254 , Accuracy : 0.9353983 , Precision : 0.87873894, Recall: 0.93093646, Binary cross entropy : 0.10161803\n",
      "root        : DEBUG    Model: UNET3D-ToothSegmentation-scale_0.25-rotation_10.h5 ,Tooth sample : 29.11.92.nii,meanIOU : 0.87661254 , Accuracy : 0.9353983 , Precision : 0.87873894, Recall: 0.93093646, Binary cross entropy : 0.10161803\n",
      "root        : DEBUG    Model: UNET3D-ToothSegmentation-scale_0.25-rotation_10.h5 ,Tooth sample : 29.11.92.nii,meanIOU : 0.87661254 , Accuracy : 0.9353983 , Precision : 0.87873894, Recall: 0.93093646, Binary cross entropy : 0.10161803\n",
      "root        : DEBUG    Model: UNET3D-ToothSegmentation-scale_0.25-rotation_10.h5 ,Tooth sample : 29.11.92.nii,meanIOU : 0.87661254 , Accuracy : 0.9353983 , Precision : 0.87873894, Recall: 0.93093646, Binary cross entropy : 0.10161803\n",
      "root        : DEBUG    Model: UNET3D-ToothSegmentation-scale_0.25-rotation_10.h5 ,Tooth sample : 29.11.92.nii,meanIOU : 0.87661254 , Accuracy : 0.9353983 , Precision : 0.87873894, Recall: 0.93093646, Binary cross entropy : 0.10161803\n"
     ]
    },
    {
     "name": "stdout",
     "output_type": "stream",
     "text": [
      "meanIOU 0.87661254 Accuracy 0.9353983 Precision 0.87873894 Recall 0.93093646  Binary cross entropy 0.10161803\n"
     ]
    },
    {
     "data": {
      "application/vnd.jupyter.widget-view+json": {
       "model_id": "4c6cf6ce84414d728d39d282590110e1",
       "version_major": 2,
       "version_minor": 0
      },
      "text/plain": [
       "Renderer(camera=PerspectiveCamera(children=(DirectionalLight(color='white', intensity=0.6, position=(45.522092…"
      ]
     },
     "metadata": {},
     "output_type": "display_data"
    },
    {
     "name": "stdout",
     "output_type": "stream",
     "text": [
      "UNET3D-ToothSegmentation-scale_0.25-rotation_None.h5\n",
      "(65, 53, 108)\n"
     ]
    },
    {
     "name": "stderr",
     "output_type": "stream",
     "text": [
      "The default mode, 'constant', will be changed to 'reflect' in skimage 0.15.\n",
      "The default multichannel argument (None) is deprecated.  Please specify either True or False explicitly.  multichannel will default to False starting with release 0.16.\n",
      "root        : DEBUG    Model: UNET3D-ToothSegmentation-scale_0.25-rotation_None.h5 ,Tooth sample : 29.6.67.nii,meanIOU : 0.29245412 , Accuracy : 0.3644923 , Precision : 0.18542433, Recall: 0.97328275, Binary cross entropy : 8.12756\n",
      "root        : DEBUG    Model: UNET3D-ToothSegmentation-scale_0.25-rotation_None.h5 ,Tooth sample : 29.6.67.nii,meanIOU : 0.29245412 , Accuracy : 0.3644923 , Precision : 0.18542433, Recall: 0.97328275, Binary cross entropy : 8.12756\n",
      "root        : DEBUG    Model: UNET3D-ToothSegmentation-scale_0.25-rotation_None.h5 ,Tooth sample : 29.6.67.nii,meanIOU : 0.29245412 , Accuracy : 0.3644923 , Precision : 0.18542433, Recall: 0.97328275, Binary cross entropy : 8.12756\n",
      "root        : DEBUG    Model: UNET3D-ToothSegmentation-scale_0.25-rotation_None.h5 ,Tooth sample : 29.6.67.nii,meanIOU : 0.29245412 , Accuracy : 0.3644923 , Precision : 0.18542433, Recall: 0.97328275, Binary cross entropy : 8.12756\n",
      "root        : DEBUG    Model: UNET3D-ToothSegmentation-scale_0.25-rotation_None.h5 ,Tooth sample : 29.6.67.nii,meanIOU : 0.29245412 , Accuracy : 0.3644923 , Precision : 0.18542433, Recall: 0.97328275, Binary cross entropy : 8.12756\n",
      "root        : DEBUG    Model: UNET3D-ToothSegmentation-scale_0.25-rotation_None.h5 ,Tooth sample : 29.6.67.nii,meanIOU : 0.29245412 , Accuracy : 0.3644923 , Precision : 0.18542433, Recall: 0.97328275, Binary cross entropy : 8.12756\n",
      "root        : DEBUG    Model: UNET3D-ToothSegmentation-scale_0.25-rotation_None.h5 ,Tooth sample : 29.6.67.nii,meanIOU : 0.29245412 , Accuracy : 0.3644923 , Precision : 0.18542433, Recall: 0.97328275, Binary cross entropy : 8.12756\n",
      "root        : DEBUG    Model: UNET3D-ToothSegmentation-scale_0.25-rotation_None.h5 ,Tooth sample : 29.6.67.nii,meanIOU : 0.29245412 , Accuracy : 0.3644923 , Precision : 0.18542433, Recall: 0.97328275, Binary cross entropy : 8.12756\n",
      "root        : DEBUG    Model: UNET3D-ToothSegmentation-scale_0.25-rotation_None.h5 ,Tooth sample : 29.6.67.nii,meanIOU : 0.29245412 , Accuracy : 0.3644923 , Precision : 0.18542433, Recall: 0.97328275, Binary cross entropy : 8.12756\n",
      "root        : DEBUG    Model: UNET3D-ToothSegmentation-scale_0.25-rotation_None.h5 ,Tooth sample : 29.6.67.nii,meanIOU : 0.29245412 , Accuracy : 0.3644923 , Precision : 0.18542433, Recall: 0.97328275, Binary cross entropy : 8.12756\n",
      "root        : DEBUG    Model: UNET3D-ToothSegmentation-scale_0.25-rotation_None.h5 ,Tooth sample : 29.6.67.nii,meanIOU : 0.29245412 , Accuracy : 0.3644923 , Precision : 0.18542433, Recall: 0.97328275, Binary cross entropy : 8.12756\n",
      "root        : DEBUG    Model: UNET3D-ToothSegmentation-scale_0.25-rotation_None.h5 ,Tooth sample : 29.6.67.nii,meanIOU : 0.29245412 , Accuracy : 0.3644923 , Precision : 0.18542433, Recall: 0.97328275, Binary cross entropy : 8.12756\n",
      "root        : DEBUG    Model: UNET3D-ToothSegmentation-scale_0.25-rotation_None.h5 ,Tooth sample : 29.6.67.nii,meanIOU : 0.29245412 , Accuracy : 0.3644923 , Precision : 0.18542433, Recall: 0.97328275, Binary cross entropy : 8.12756\n",
      "root        : DEBUG    Model: UNET3D-ToothSegmentation-scale_0.25-rotation_None.h5 ,Tooth sample : 29.6.67.nii,meanIOU : 0.29245412 , Accuracy : 0.3644923 , Precision : 0.18542433, Recall: 0.97328275, Binary cross entropy : 8.12756\n",
      "root        : DEBUG    Model: UNET3D-ToothSegmentation-scale_0.25-rotation_None.h5 ,Tooth sample : 29.6.67.nii,meanIOU : 0.29245412 , Accuracy : 0.3644923 , Precision : 0.18542433, Recall: 0.97328275, Binary cross entropy : 8.12756\n",
      "root        : DEBUG    Model: UNET3D-ToothSegmentation-scale_0.25-rotation_None.h5 ,Tooth sample : 29.6.67.nii,meanIOU : 0.29245412 , Accuracy : 0.3644923 , Precision : 0.18542433, Recall: 0.97328275, Binary cross entropy : 8.12756\n",
      "root        : DEBUG    Model: UNET3D-ToothSegmentation-scale_0.25-rotation_None.h5 ,Tooth sample : 29.6.67.nii,meanIOU : 0.29245412 , Accuracy : 0.3644923 , Precision : 0.18542433, Recall: 0.97328275, Binary cross entropy : 8.12756\n",
      "root        : DEBUG    Model: UNET3D-ToothSegmentation-scale_0.25-rotation_None.h5 ,Tooth sample : 29.6.67.nii,meanIOU : 0.29245412 , Accuracy : 0.3644923 , Precision : 0.18542433, Recall: 0.97328275, Binary cross entropy : 8.12756\n",
      "root        : DEBUG    Model: UNET3D-ToothSegmentation-scale_0.25-rotation_None.h5 ,Tooth sample : 29.6.67.nii,meanIOU : 0.29245412 , Accuracy : 0.3644923 , Precision : 0.18542433, Recall: 0.97328275, Binary cross entropy : 8.12756\n"
     ]
    },
    {
     "name": "stdout",
     "output_type": "stream",
     "text": [
      "meanIOU 0.29245412 Accuracy 0.3644923 Precision 0.18542433 Recall 0.97328275  Binary cross entropy 8.12756\n"
     ]
    },
    {
     "data": {
      "application/vnd.jupyter.widget-view+json": {
       "model_id": "b8a27678a62a4e12b1d8b805d7ebbe7d",
       "version_major": 2,
       "version_minor": 0
      },
      "text/plain": [
       "Renderer(camera=PerspectiveCamera(children=(DirectionalLight(color='white', intensity=0.6, position=(32.0, 26.…"
      ]
     },
     "metadata": {},
     "output_type": "display_data"
    },
    {
     "name": "stdout",
     "output_type": "stream",
     "text": [
      "(50, 50, 100)\n"
     ]
    },
    {
     "name": "stderr",
     "output_type": "stream",
     "text": [
      "root        : DEBUG    Model: UNET3D-ToothSegmentation-scale_0.25-rotation_None.h5 ,Tooth sample : 14.8.93.nii,meanIOU : 0.71642923 , Accuracy : 0.86459506 , Precision : 0.7808961, Recall: 0.6769341, Binary cross entropy : 1.0021688\n",
      "root        : DEBUG    Model: UNET3D-ToothSegmentation-scale_0.25-rotation_None.h5 ,Tooth sample : 14.8.93.nii,meanIOU : 0.71642923 , Accuracy : 0.86459506 , Precision : 0.7808961, Recall: 0.6769341, Binary cross entropy : 1.0021688\n",
      "root        : DEBUG    Model: UNET3D-ToothSegmentation-scale_0.25-rotation_None.h5 ,Tooth sample : 14.8.93.nii,meanIOU : 0.71642923 , Accuracy : 0.86459506 , Precision : 0.7808961, Recall: 0.6769341, Binary cross entropy : 1.0021688\n",
      "root        : DEBUG    Model: UNET3D-ToothSegmentation-scale_0.25-rotation_None.h5 ,Tooth sample : 14.8.93.nii,meanIOU : 0.71642923 , Accuracy : 0.86459506 , Precision : 0.7808961, Recall: 0.6769341, Binary cross entropy : 1.0021688\n",
      "root        : DEBUG    Model: UNET3D-ToothSegmentation-scale_0.25-rotation_None.h5 ,Tooth sample : 14.8.93.nii,meanIOU : 0.71642923 , Accuracy : 0.86459506 , Precision : 0.7808961, Recall: 0.6769341, Binary cross entropy : 1.0021688\n",
      "root        : DEBUG    Model: UNET3D-ToothSegmentation-scale_0.25-rotation_None.h5 ,Tooth sample : 14.8.93.nii,meanIOU : 0.71642923 , Accuracy : 0.86459506 , Precision : 0.7808961, Recall: 0.6769341, Binary cross entropy : 1.0021688\n",
      "root        : DEBUG    Model: UNET3D-ToothSegmentation-scale_0.25-rotation_None.h5 ,Tooth sample : 14.8.93.nii,meanIOU : 0.71642923 , Accuracy : 0.86459506 , Precision : 0.7808961, Recall: 0.6769341, Binary cross entropy : 1.0021688\n",
      "root        : DEBUG    Model: UNET3D-ToothSegmentation-scale_0.25-rotation_None.h5 ,Tooth sample : 14.8.93.nii,meanIOU : 0.71642923 , Accuracy : 0.86459506 , Precision : 0.7808961, Recall: 0.6769341, Binary cross entropy : 1.0021688\n",
      "root        : DEBUG    Model: UNET3D-ToothSegmentation-scale_0.25-rotation_None.h5 ,Tooth sample : 14.8.93.nii,meanIOU : 0.71642923 , Accuracy : 0.86459506 , Precision : 0.7808961, Recall: 0.6769341, Binary cross entropy : 1.0021688\n",
      "root        : DEBUG    Model: UNET3D-ToothSegmentation-scale_0.25-rotation_None.h5 ,Tooth sample : 14.8.93.nii,meanIOU : 0.71642923 , Accuracy : 0.86459506 , Precision : 0.7808961, Recall: 0.6769341, Binary cross entropy : 1.0021688\n",
      "root        : DEBUG    Model: UNET3D-ToothSegmentation-scale_0.25-rotation_None.h5 ,Tooth sample : 14.8.93.nii,meanIOU : 0.71642923 , Accuracy : 0.86459506 , Precision : 0.7808961, Recall: 0.6769341, Binary cross entropy : 1.0021688\n",
      "root        : DEBUG    Model: UNET3D-ToothSegmentation-scale_0.25-rotation_None.h5 ,Tooth sample : 14.8.93.nii,meanIOU : 0.71642923 , Accuracy : 0.86459506 , Precision : 0.7808961, Recall: 0.6769341, Binary cross entropy : 1.0021688\n",
      "root        : DEBUG    Model: UNET3D-ToothSegmentation-scale_0.25-rotation_None.h5 ,Tooth sample : 14.8.93.nii,meanIOU : 0.71642923 , Accuracy : 0.86459506 , Precision : 0.7808961, Recall: 0.6769341, Binary cross entropy : 1.0021688\n",
      "root        : DEBUG    Model: UNET3D-ToothSegmentation-scale_0.25-rotation_None.h5 ,Tooth sample : 14.8.93.nii,meanIOU : 0.71642923 , Accuracy : 0.86459506 , Precision : 0.7808961, Recall: 0.6769341, Binary cross entropy : 1.0021688\n",
      "root        : DEBUG    Model: UNET3D-ToothSegmentation-scale_0.25-rotation_None.h5 ,Tooth sample : 14.8.93.nii,meanIOU : 0.71642923 , Accuracy : 0.86459506 , Precision : 0.7808961, Recall: 0.6769341, Binary cross entropy : 1.0021688\n",
      "root        : DEBUG    Model: UNET3D-ToothSegmentation-scale_0.25-rotation_None.h5 ,Tooth sample : 14.8.93.nii,meanIOU : 0.71642923 , Accuracy : 0.86459506 , Precision : 0.7808961, Recall: 0.6769341, Binary cross entropy : 1.0021688\n",
      "root        : DEBUG    Model: UNET3D-ToothSegmentation-scale_0.25-rotation_None.h5 ,Tooth sample : 14.8.93.nii,meanIOU : 0.71642923 , Accuracy : 0.86459506 , Precision : 0.7808961, Recall: 0.6769341, Binary cross entropy : 1.0021688\n",
      "root        : DEBUG    Model: UNET3D-ToothSegmentation-scale_0.25-rotation_None.h5 ,Tooth sample : 14.8.93.nii,meanIOU : 0.71642923 , Accuracy : 0.86459506 , Precision : 0.7808961, Recall: 0.6769341, Binary cross entropy : 1.0021688\n",
      "root        : DEBUG    Model: UNET3D-ToothSegmentation-scale_0.25-rotation_None.h5 ,Tooth sample : 14.8.93.nii,meanIOU : 0.71642923 , Accuracy : 0.86459506 , Precision : 0.7808961, Recall: 0.6769341, Binary cross entropy : 1.0021688\n",
      "root        : DEBUG    Model: UNET3D-ToothSegmentation-scale_0.25-rotation_None.h5 ,Tooth sample : 14.8.93.nii,meanIOU : 0.71642923 , Accuracy : 0.86459506 , Precision : 0.7808961, Recall: 0.6769341, Binary cross entropy : 1.0021688\n"
     ]
    },
    {
     "name": "stdout",
     "output_type": "stream",
     "text": [
      "meanIOU 0.71642923 Accuracy 0.86459506 Precision 0.7808961 Recall 0.6769341  Binary cross entropy 1.0021688\n"
     ]
    },
    {
     "data": {
      "application/vnd.jupyter.widget-view+json": {
       "model_id": "cdab824a78064c4cb6ed146802a0e413",
       "version_major": 2,
       "version_minor": 0
      },
      "text/plain": [
       "Renderer(camera=PerspectiveCamera(children=(DirectionalLight(color='white', intensity=0.6, position=(28.575536…"
      ]
     },
     "metadata": {},
     "output_type": "display_data"
    },
    {
     "name": "stdout",
     "output_type": "stream",
     "text": [
      "(82, 60, 94)\n"
     ]
    },
    {
     "name": "stderr",
     "output_type": "stream",
     "text": [
      "root        : DEBUG    Model: UNET3D-ToothSegmentation-scale_0.25-rotation_None.h5 ,Tooth sample : 29.11.92.nii,meanIOU : 0.8937205 , Accuracy : 0.928438 , Precision : 0.8454062, Recall: 0.9683117, Binary cross entropy : 0.10607188\n",
      "root        : DEBUG    Model: UNET3D-ToothSegmentation-scale_0.25-rotation_None.h5 ,Tooth sample : 29.11.92.nii,meanIOU : 0.8937205 , Accuracy : 0.928438 , Precision : 0.8454062, Recall: 0.9683117, Binary cross entropy : 0.10607188\n",
      "root        : DEBUG    Model: UNET3D-ToothSegmentation-scale_0.25-rotation_None.h5 ,Tooth sample : 29.11.92.nii,meanIOU : 0.8937205 , Accuracy : 0.928438 , Precision : 0.8454062, Recall: 0.9683117, Binary cross entropy : 0.10607188\n",
      "root        : DEBUG    Model: UNET3D-ToothSegmentation-scale_0.25-rotation_None.h5 ,Tooth sample : 29.11.92.nii,meanIOU : 0.8937205 , Accuracy : 0.928438 , Precision : 0.8454062, Recall: 0.9683117, Binary cross entropy : 0.10607188\n",
      "root        : DEBUG    Model: UNET3D-ToothSegmentation-scale_0.25-rotation_None.h5 ,Tooth sample : 29.11.92.nii,meanIOU : 0.8937205 , Accuracy : 0.928438 , Precision : 0.8454062, Recall: 0.9683117, Binary cross entropy : 0.10607188\n",
      "root        : DEBUG    Model: UNET3D-ToothSegmentation-scale_0.25-rotation_None.h5 ,Tooth sample : 29.11.92.nii,meanIOU : 0.8937205 , Accuracy : 0.928438 , Precision : 0.8454062, Recall: 0.9683117, Binary cross entropy : 0.10607188\n",
      "root        : DEBUG    Model: UNET3D-ToothSegmentation-scale_0.25-rotation_None.h5 ,Tooth sample : 29.11.92.nii,meanIOU : 0.8937205 , Accuracy : 0.928438 , Precision : 0.8454062, Recall: 0.9683117, Binary cross entropy : 0.10607188\n",
      "root        : DEBUG    Model: UNET3D-ToothSegmentation-scale_0.25-rotation_None.h5 ,Tooth sample : 29.11.92.nii,meanIOU : 0.8937205 , Accuracy : 0.928438 , Precision : 0.8454062, Recall: 0.9683117, Binary cross entropy : 0.10607188\n",
      "root        : DEBUG    Model: UNET3D-ToothSegmentation-scale_0.25-rotation_None.h5 ,Tooth sample : 29.11.92.nii,meanIOU : 0.8937205 , Accuracy : 0.928438 , Precision : 0.8454062, Recall: 0.9683117, Binary cross entropy : 0.10607188\n",
      "root        : DEBUG    Model: UNET3D-ToothSegmentation-scale_0.25-rotation_None.h5 ,Tooth sample : 29.11.92.nii,meanIOU : 0.8937205 , Accuracy : 0.928438 , Precision : 0.8454062, Recall: 0.9683117, Binary cross entropy : 0.10607188\n",
      "root        : DEBUG    Model: UNET3D-ToothSegmentation-scale_0.25-rotation_None.h5 ,Tooth sample : 29.11.92.nii,meanIOU : 0.8937205 , Accuracy : 0.928438 , Precision : 0.8454062, Recall: 0.9683117, Binary cross entropy : 0.10607188\n",
      "root        : DEBUG    Model: UNET3D-ToothSegmentation-scale_0.25-rotation_None.h5 ,Tooth sample : 29.11.92.nii,meanIOU : 0.8937205 , Accuracy : 0.928438 , Precision : 0.8454062, Recall: 0.9683117, Binary cross entropy : 0.10607188\n",
      "root        : DEBUG    Model: UNET3D-ToothSegmentation-scale_0.25-rotation_None.h5 ,Tooth sample : 29.11.92.nii,meanIOU : 0.8937205 , Accuracy : 0.928438 , Precision : 0.8454062, Recall: 0.9683117, Binary cross entropy : 0.10607188\n",
      "root        : DEBUG    Model: UNET3D-ToothSegmentation-scale_0.25-rotation_None.h5 ,Tooth sample : 29.11.92.nii,meanIOU : 0.8937205 , Accuracy : 0.928438 , Precision : 0.8454062, Recall: 0.9683117, Binary cross entropy : 0.10607188\n",
      "root        : DEBUG    Model: UNET3D-ToothSegmentation-scale_0.25-rotation_None.h5 ,Tooth sample : 29.11.92.nii,meanIOU : 0.8937205 , Accuracy : 0.928438 , Precision : 0.8454062, Recall: 0.9683117, Binary cross entropy : 0.10607188\n",
      "root        : DEBUG    Model: UNET3D-ToothSegmentation-scale_0.25-rotation_None.h5 ,Tooth sample : 29.11.92.nii,meanIOU : 0.8937205 , Accuracy : 0.928438 , Precision : 0.8454062, Recall: 0.9683117, Binary cross entropy : 0.10607188\n",
      "root        : DEBUG    Model: UNET3D-ToothSegmentation-scale_0.25-rotation_None.h5 ,Tooth sample : 29.11.92.nii,meanIOU : 0.8937205 , Accuracy : 0.928438 , Precision : 0.8454062, Recall: 0.9683117, Binary cross entropy : 0.10607188\n",
      "root        : DEBUG    Model: UNET3D-ToothSegmentation-scale_0.25-rotation_None.h5 ,Tooth sample : 29.11.92.nii,meanIOU : 0.8937205 , Accuracy : 0.928438 , Precision : 0.8454062, Recall: 0.9683117, Binary cross entropy : 0.10607188\n",
      "root        : DEBUG    Model: UNET3D-ToothSegmentation-scale_0.25-rotation_None.h5 ,Tooth sample : 29.11.92.nii,meanIOU : 0.8937205 , Accuracy : 0.928438 , Precision : 0.8454062, Recall: 0.9683117, Binary cross entropy : 0.10607188\n",
      "root        : DEBUG    Model: UNET3D-ToothSegmentation-scale_0.25-rotation_None.h5 ,Tooth sample : 29.11.92.nii,meanIOU : 0.8937205 , Accuracy : 0.928438 , Precision : 0.8454062, Recall: 0.9683117, Binary cross entropy : 0.10607188\n",
      "root        : DEBUG    Model: UNET3D-ToothSegmentation-scale_0.25-rotation_None.h5 ,Tooth sample : 29.11.92.nii,meanIOU : 0.8937205 , Accuracy : 0.928438 , Precision : 0.8454062, Recall: 0.9683117, Binary cross entropy : 0.10607188\n"
     ]
    },
    {
     "name": "stdout",
     "output_type": "stream",
     "text": [
      "meanIOU 0.8937205 Accuracy 0.928438 Precision 0.8454062 Recall 0.9683117  Binary cross entropy 0.10607188\n"
     ]
    },
    {
     "data": {
      "application/vnd.jupyter.widget-view+json": {
       "model_id": "0b0f5eedff5a4b04a5101a4356f7b08d",
       "version_major": 2,
       "version_minor": 0
      },
      "text/plain": [
       "Renderer(camera=PerspectiveCamera(children=(DirectionalLight(color='white', intensity=0.6, position=(45.522092…"
      ]
     },
     "metadata": {},
     "output_type": "display_data"
    },
    {
     "name": "stdout",
     "output_type": "stream",
     "text": [
      "UNET3D-ToothSegmentation-scale_None-rotation_10.h5\n",
      "(65, 53, 108)\n"
     ]
    },
    {
     "name": "stderr",
     "output_type": "stream",
     "text": [
      "The default mode, 'constant', will be changed to 'reflect' in skimage 0.15.\n",
      "The default multichannel argument (None) is deprecated.  Please specify either True or False explicitly.  multichannel will default to False starting with release 0.16.\n",
      "root        : DEBUG    Model: UNET3D-ToothSegmentation-scale_None-rotation_10.h5 ,Tooth sample : 29.6.67.nii,meanIOU : 0.28438276 , Accuracy : 0.3601435 , Precision : 0.17963149, Recall: 0.9606663, Binary cross entropy : 8.298296\n",
      "root        : DEBUG    Model: UNET3D-ToothSegmentation-scale_None-rotation_10.h5 ,Tooth sample : 29.6.67.nii,meanIOU : 0.28438276 , Accuracy : 0.3601435 , Precision : 0.17963149, Recall: 0.9606663, Binary cross entropy : 8.298296\n",
      "root        : DEBUG    Model: UNET3D-ToothSegmentation-scale_None-rotation_10.h5 ,Tooth sample : 29.6.67.nii,meanIOU : 0.28438276 , Accuracy : 0.3601435 , Precision : 0.17963149, Recall: 0.9606663, Binary cross entropy : 8.298296\n",
      "root        : DEBUG    Model: UNET3D-ToothSegmentation-scale_None-rotation_10.h5 ,Tooth sample : 29.6.67.nii,meanIOU : 0.28438276 , Accuracy : 0.3601435 , Precision : 0.17963149, Recall: 0.9606663, Binary cross entropy : 8.298296\n",
      "root        : DEBUG    Model: UNET3D-ToothSegmentation-scale_None-rotation_10.h5 ,Tooth sample : 29.6.67.nii,meanIOU : 0.28438276 , Accuracy : 0.3601435 , Precision : 0.17963149, Recall: 0.9606663, Binary cross entropy : 8.298296\n",
      "root        : DEBUG    Model: UNET3D-ToothSegmentation-scale_None-rotation_10.h5 ,Tooth sample : 29.6.67.nii,meanIOU : 0.28438276 , Accuracy : 0.3601435 , Precision : 0.17963149, Recall: 0.9606663, Binary cross entropy : 8.298296\n",
      "root        : DEBUG    Model: UNET3D-ToothSegmentation-scale_None-rotation_10.h5 ,Tooth sample : 29.6.67.nii,meanIOU : 0.28438276 , Accuracy : 0.3601435 , Precision : 0.17963149, Recall: 0.9606663, Binary cross entropy : 8.298296\n",
      "root        : DEBUG    Model: UNET3D-ToothSegmentation-scale_None-rotation_10.h5 ,Tooth sample : 29.6.67.nii,meanIOU : 0.28438276 , Accuracy : 0.3601435 , Precision : 0.17963149, Recall: 0.9606663, Binary cross entropy : 8.298296\n",
      "root        : DEBUG    Model: UNET3D-ToothSegmentation-scale_None-rotation_10.h5 ,Tooth sample : 29.6.67.nii,meanIOU : 0.28438276 , Accuracy : 0.3601435 , Precision : 0.17963149, Recall: 0.9606663, Binary cross entropy : 8.298296\n",
      "root        : DEBUG    Model: UNET3D-ToothSegmentation-scale_None-rotation_10.h5 ,Tooth sample : 29.6.67.nii,meanIOU : 0.28438276 , Accuracy : 0.3601435 , Precision : 0.17963149, Recall: 0.9606663, Binary cross entropy : 8.298296\n",
      "root        : DEBUG    Model: UNET3D-ToothSegmentation-scale_None-rotation_10.h5 ,Tooth sample : 29.6.67.nii,meanIOU : 0.28438276 , Accuracy : 0.3601435 , Precision : 0.17963149, Recall: 0.9606663, Binary cross entropy : 8.298296\n",
      "root        : DEBUG    Model: UNET3D-ToothSegmentation-scale_None-rotation_10.h5 ,Tooth sample : 29.6.67.nii,meanIOU : 0.28438276 , Accuracy : 0.3601435 , Precision : 0.17963149, Recall: 0.9606663, Binary cross entropy : 8.298296\n",
      "root        : DEBUG    Model: UNET3D-ToothSegmentation-scale_None-rotation_10.h5 ,Tooth sample : 29.6.67.nii,meanIOU : 0.28438276 , Accuracy : 0.3601435 , Precision : 0.17963149, Recall: 0.9606663, Binary cross entropy : 8.298296\n",
      "root        : DEBUG    Model: UNET3D-ToothSegmentation-scale_None-rotation_10.h5 ,Tooth sample : 29.6.67.nii,meanIOU : 0.28438276 , Accuracy : 0.3601435 , Precision : 0.17963149, Recall: 0.9606663, Binary cross entropy : 8.298296\n",
      "root        : DEBUG    Model: UNET3D-ToothSegmentation-scale_None-rotation_10.h5 ,Tooth sample : 29.6.67.nii,meanIOU : 0.28438276 , Accuracy : 0.3601435 , Precision : 0.17963149, Recall: 0.9606663, Binary cross entropy : 8.298296\n",
      "root        : DEBUG    Model: UNET3D-ToothSegmentation-scale_None-rotation_10.h5 ,Tooth sample : 29.6.67.nii,meanIOU : 0.28438276 , Accuracy : 0.3601435 , Precision : 0.17963149, Recall: 0.9606663, Binary cross entropy : 8.298296\n",
      "root        : DEBUG    Model: UNET3D-ToothSegmentation-scale_None-rotation_10.h5 ,Tooth sample : 29.6.67.nii,meanIOU : 0.28438276 , Accuracy : 0.3601435 , Precision : 0.17963149, Recall: 0.9606663, Binary cross entropy : 8.298296\n",
      "root        : DEBUG    Model: UNET3D-ToothSegmentation-scale_None-rotation_10.h5 ,Tooth sample : 29.6.67.nii,meanIOU : 0.28438276 , Accuracy : 0.3601435 , Precision : 0.17963149, Recall: 0.9606663, Binary cross entropy : 8.298296\n",
      "root        : DEBUG    Model: UNET3D-ToothSegmentation-scale_None-rotation_10.h5 ,Tooth sample : 29.6.67.nii,meanIOU : 0.28438276 , Accuracy : 0.3601435 , Precision : 0.17963149, Recall: 0.9606663, Binary cross entropy : 8.298296\n",
      "root        : DEBUG    Model: UNET3D-ToothSegmentation-scale_None-rotation_10.h5 ,Tooth sample : 29.6.67.nii,meanIOU : 0.28438276 , Accuracy : 0.3601435 , Precision : 0.17963149, Recall: 0.9606663, Binary cross entropy : 8.298296\n",
      "root        : DEBUG    Model: UNET3D-ToothSegmentation-scale_None-rotation_10.h5 ,Tooth sample : 29.6.67.nii,meanIOU : 0.28438276 , Accuracy : 0.3601435 , Precision : 0.17963149, Recall: 0.9606663, Binary cross entropy : 8.298296\n",
      "root        : DEBUG    Model: UNET3D-ToothSegmentation-scale_None-rotation_10.h5 ,Tooth sample : 29.6.67.nii,meanIOU : 0.28438276 , Accuracy : 0.3601435 , Precision : 0.17963149, Recall: 0.9606663, Binary cross entropy : 8.298296\n"
     ]
    },
    {
     "name": "stdout",
     "output_type": "stream",
     "text": [
      "meanIOU 0.28438276 Accuracy 0.3601435 Precision 0.17963149 Recall 0.9606663  Binary cross entropy 8.298296\n"
     ]
    },
    {
     "data": {
      "application/vnd.jupyter.widget-view+json": {
       "model_id": "b90651c2813d49f89324de097459d303",
       "version_major": 2,
       "version_minor": 0
      },
      "text/plain": [
       "Renderer(camera=PerspectiveCamera(children=(DirectionalLight(color='white', intensity=0.6, position=(32.0, 26.…"
      ]
     },
     "metadata": {},
     "output_type": "display_data"
    },
    {
     "name": "stdout",
     "output_type": "stream",
     "text": [
      "(50, 50, 100)\n"
     ]
    },
    {
     "name": "stderr",
     "output_type": "stream",
     "text": [
      "root        : DEBUG    Model: UNET3D-ToothSegmentation-scale_None-rotation_10.h5 ,Tooth sample : 14.8.93.nii,meanIOU : 0.7016131 , Accuracy : 0.8606843 , Precision : 0.7842865, Recall: 0.6589197, Binary cross entropy : 1.011344\n",
      "root        : DEBUG    Model: UNET3D-ToothSegmentation-scale_None-rotation_10.h5 ,Tooth sample : 14.8.93.nii,meanIOU : 0.7016131 , Accuracy : 0.8606843 , Precision : 0.7842865, Recall: 0.6589197, Binary cross entropy : 1.011344\n",
      "root        : DEBUG    Model: UNET3D-ToothSegmentation-scale_None-rotation_10.h5 ,Tooth sample : 14.8.93.nii,meanIOU : 0.7016131 , Accuracy : 0.8606843 , Precision : 0.7842865, Recall: 0.6589197, Binary cross entropy : 1.011344\n",
      "root        : DEBUG    Model: UNET3D-ToothSegmentation-scale_None-rotation_10.h5 ,Tooth sample : 14.8.93.nii,meanIOU : 0.7016131 , Accuracy : 0.8606843 , Precision : 0.7842865, Recall: 0.6589197, Binary cross entropy : 1.011344\n",
      "root        : DEBUG    Model: UNET3D-ToothSegmentation-scale_None-rotation_10.h5 ,Tooth sample : 14.8.93.nii,meanIOU : 0.7016131 , Accuracy : 0.8606843 , Precision : 0.7842865, Recall: 0.6589197, Binary cross entropy : 1.011344\n",
      "root        : DEBUG    Model: UNET3D-ToothSegmentation-scale_None-rotation_10.h5 ,Tooth sample : 14.8.93.nii,meanIOU : 0.7016131 , Accuracy : 0.8606843 , Precision : 0.7842865, Recall: 0.6589197, Binary cross entropy : 1.011344\n",
      "root        : DEBUG    Model: UNET3D-ToothSegmentation-scale_None-rotation_10.h5 ,Tooth sample : 14.8.93.nii,meanIOU : 0.7016131 , Accuracy : 0.8606843 , Precision : 0.7842865, Recall: 0.6589197, Binary cross entropy : 1.011344\n",
      "root        : DEBUG    Model: UNET3D-ToothSegmentation-scale_None-rotation_10.h5 ,Tooth sample : 14.8.93.nii,meanIOU : 0.7016131 , Accuracy : 0.8606843 , Precision : 0.7842865, Recall: 0.6589197, Binary cross entropy : 1.011344\n",
      "root        : DEBUG    Model: UNET3D-ToothSegmentation-scale_None-rotation_10.h5 ,Tooth sample : 14.8.93.nii,meanIOU : 0.7016131 , Accuracy : 0.8606843 , Precision : 0.7842865, Recall: 0.6589197, Binary cross entropy : 1.011344\n",
      "root        : DEBUG    Model: UNET3D-ToothSegmentation-scale_None-rotation_10.h5 ,Tooth sample : 14.8.93.nii,meanIOU : 0.7016131 , Accuracy : 0.8606843 , Precision : 0.7842865, Recall: 0.6589197, Binary cross entropy : 1.011344\n",
      "root        : DEBUG    Model: UNET3D-ToothSegmentation-scale_None-rotation_10.h5 ,Tooth sample : 14.8.93.nii,meanIOU : 0.7016131 , Accuracy : 0.8606843 , Precision : 0.7842865, Recall: 0.6589197, Binary cross entropy : 1.011344\n",
      "root        : DEBUG    Model: UNET3D-ToothSegmentation-scale_None-rotation_10.h5 ,Tooth sample : 14.8.93.nii,meanIOU : 0.7016131 , Accuracy : 0.8606843 , Precision : 0.7842865, Recall: 0.6589197, Binary cross entropy : 1.011344\n",
      "root        : DEBUG    Model: UNET3D-ToothSegmentation-scale_None-rotation_10.h5 ,Tooth sample : 14.8.93.nii,meanIOU : 0.7016131 , Accuracy : 0.8606843 , Precision : 0.7842865, Recall: 0.6589197, Binary cross entropy : 1.011344\n",
      "root        : DEBUG    Model: UNET3D-ToothSegmentation-scale_None-rotation_10.h5 ,Tooth sample : 14.8.93.nii,meanIOU : 0.7016131 , Accuracy : 0.8606843 , Precision : 0.7842865, Recall: 0.6589197, Binary cross entropy : 1.011344\n",
      "root        : DEBUG    Model: UNET3D-ToothSegmentation-scale_None-rotation_10.h5 ,Tooth sample : 14.8.93.nii,meanIOU : 0.7016131 , Accuracy : 0.8606843 , Precision : 0.7842865, Recall: 0.6589197, Binary cross entropy : 1.011344\n",
      "root        : DEBUG    Model: UNET3D-ToothSegmentation-scale_None-rotation_10.h5 ,Tooth sample : 14.8.93.nii,meanIOU : 0.7016131 , Accuracy : 0.8606843 , Precision : 0.7842865, Recall: 0.6589197, Binary cross entropy : 1.011344\n",
      "root        : DEBUG    Model: UNET3D-ToothSegmentation-scale_None-rotation_10.h5 ,Tooth sample : 14.8.93.nii,meanIOU : 0.7016131 , Accuracy : 0.8606843 , Precision : 0.7842865, Recall: 0.6589197, Binary cross entropy : 1.011344\n",
      "root        : DEBUG    Model: UNET3D-ToothSegmentation-scale_None-rotation_10.h5 ,Tooth sample : 14.8.93.nii,meanIOU : 0.7016131 , Accuracy : 0.8606843 , Precision : 0.7842865, Recall: 0.6589197, Binary cross entropy : 1.011344\n",
      "root        : DEBUG    Model: UNET3D-ToothSegmentation-scale_None-rotation_10.h5 ,Tooth sample : 14.8.93.nii,meanIOU : 0.7016131 , Accuracy : 0.8606843 , Precision : 0.7842865, Recall: 0.6589197, Binary cross entropy : 1.011344\n",
      "root        : DEBUG    Model: UNET3D-ToothSegmentation-scale_None-rotation_10.h5 ,Tooth sample : 14.8.93.nii,meanIOU : 0.7016131 , Accuracy : 0.8606843 , Precision : 0.7842865, Recall: 0.6589197, Binary cross entropy : 1.011344\n",
      "root        : DEBUG    Model: UNET3D-ToothSegmentation-scale_None-rotation_10.h5 ,Tooth sample : 14.8.93.nii,meanIOU : 0.7016131 , Accuracy : 0.8606843 , Precision : 0.7842865, Recall: 0.6589197, Binary cross entropy : 1.011344\n",
      "root        : DEBUG    Model: UNET3D-ToothSegmentation-scale_None-rotation_10.h5 ,Tooth sample : 14.8.93.nii,meanIOU : 0.7016131 , Accuracy : 0.8606843 , Precision : 0.7842865, Recall: 0.6589197, Binary cross entropy : 1.011344\n",
      "root        : DEBUG    Model: UNET3D-ToothSegmentation-scale_None-rotation_10.h5 ,Tooth sample : 14.8.93.nii,meanIOU : 0.7016131 , Accuracy : 0.8606843 , Precision : 0.7842865, Recall: 0.6589197, Binary cross entropy : 1.011344\n"
     ]
    },
    {
     "name": "stdout",
     "output_type": "stream",
     "text": [
      "meanIOU 0.7016131 Accuracy 0.8606843 Precision 0.7842865 Recall 0.6589197  Binary cross entropy 1.011344\n"
     ]
    },
    {
     "data": {
      "application/vnd.jupyter.widget-view+json": {
       "model_id": "deb23e2526494f99820f58a8e4f1eea8",
       "version_major": 2,
       "version_minor": 0
      },
      "text/plain": [
       "Renderer(camera=PerspectiveCamera(children=(DirectionalLight(color='white', intensity=0.6, position=(29.012499…"
      ]
     },
     "metadata": {},
     "output_type": "display_data"
    },
    {
     "name": "stdout",
     "output_type": "stream",
     "text": [
      "(82, 60, 94)\n"
     ]
    },
    {
     "name": "stderr",
     "output_type": "stream",
     "text": [
      "root        : DEBUG    Model: UNET3D-ToothSegmentation-scale_None-rotation_10.h5 ,Tooth sample : 29.11.92.nii,meanIOU : 0.8850363 , Accuracy : 0.9279947 , Precision : 0.8398761, Recall: 0.94758785, Binary cross entropy : 0.13259809\n",
      "root        : DEBUG    Model: UNET3D-ToothSegmentation-scale_None-rotation_10.h5 ,Tooth sample : 29.11.92.nii,meanIOU : 0.8850363 , Accuracy : 0.9279947 , Precision : 0.8398761, Recall: 0.94758785, Binary cross entropy : 0.13259809\n",
      "root        : DEBUG    Model: UNET3D-ToothSegmentation-scale_None-rotation_10.h5 ,Tooth sample : 29.11.92.nii,meanIOU : 0.8850363 , Accuracy : 0.9279947 , Precision : 0.8398761, Recall: 0.94758785, Binary cross entropy : 0.13259809\n",
      "root        : DEBUG    Model: UNET3D-ToothSegmentation-scale_None-rotation_10.h5 ,Tooth sample : 29.11.92.nii,meanIOU : 0.8850363 , Accuracy : 0.9279947 , Precision : 0.8398761, Recall: 0.94758785, Binary cross entropy : 0.13259809\n",
      "root        : DEBUG    Model: UNET3D-ToothSegmentation-scale_None-rotation_10.h5 ,Tooth sample : 29.11.92.nii,meanIOU : 0.8850363 , Accuracy : 0.9279947 , Precision : 0.8398761, Recall: 0.94758785, Binary cross entropy : 0.13259809\n",
      "root        : DEBUG    Model: UNET3D-ToothSegmentation-scale_None-rotation_10.h5 ,Tooth sample : 29.11.92.nii,meanIOU : 0.8850363 , Accuracy : 0.9279947 , Precision : 0.8398761, Recall: 0.94758785, Binary cross entropy : 0.13259809\n",
      "root        : DEBUG    Model: UNET3D-ToothSegmentation-scale_None-rotation_10.h5 ,Tooth sample : 29.11.92.nii,meanIOU : 0.8850363 , Accuracy : 0.9279947 , Precision : 0.8398761, Recall: 0.94758785, Binary cross entropy : 0.13259809\n",
      "root        : DEBUG    Model: UNET3D-ToothSegmentation-scale_None-rotation_10.h5 ,Tooth sample : 29.11.92.nii,meanIOU : 0.8850363 , Accuracy : 0.9279947 , Precision : 0.8398761, Recall: 0.94758785, Binary cross entropy : 0.13259809\n",
      "root        : DEBUG    Model: UNET3D-ToothSegmentation-scale_None-rotation_10.h5 ,Tooth sample : 29.11.92.nii,meanIOU : 0.8850363 , Accuracy : 0.9279947 , Precision : 0.8398761, Recall: 0.94758785, Binary cross entropy : 0.13259809\n",
      "root        : DEBUG    Model: UNET3D-ToothSegmentation-scale_None-rotation_10.h5 ,Tooth sample : 29.11.92.nii,meanIOU : 0.8850363 , Accuracy : 0.9279947 , Precision : 0.8398761, Recall: 0.94758785, Binary cross entropy : 0.13259809\n",
      "root        : DEBUG    Model: UNET3D-ToothSegmentation-scale_None-rotation_10.h5 ,Tooth sample : 29.11.92.nii,meanIOU : 0.8850363 , Accuracy : 0.9279947 , Precision : 0.8398761, Recall: 0.94758785, Binary cross entropy : 0.13259809\n",
      "root        : DEBUG    Model: UNET3D-ToothSegmentation-scale_None-rotation_10.h5 ,Tooth sample : 29.11.92.nii,meanIOU : 0.8850363 , Accuracy : 0.9279947 , Precision : 0.8398761, Recall: 0.94758785, Binary cross entropy : 0.13259809\n",
      "root        : DEBUG    Model: UNET3D-ToothSegmentation-scale_None-rotation_10.h5 ,Tooth sample : 29.11.92.nii,meanIOU : 0.8850363 , Accuracy : 0.9279947 , Precision : 0.8398761, Recall: 0.94758785, Binary cross entropy : 0.13259809\n",
      "root        : DEBUG    Model: UNET3D-ToothSegmentation-scale_None-rotation_10.h5 ,Tooth sample : 29.11.92.nii,meanIOU : 0.8850363 , Accuracy : 0.9279947 , Precision : 0.8398761, Recall: 0.94758785, Binary cross entropy : 0.13259809\n",
      "root        : DEBUG    Model: UNET3D-ToothSegmentation-scale_None-rotation_10.h5 ,Tooth sample : 29.11.92.nii,meanIOU : 0.8850363 , Accuracy : 0.9279947 , Precision : 0.8398761, Recall: 0.94758785, Binary cross entropy : 0.13259809\n",
      "root        : DEBUG    Model: UNET3D-ToothSegmentation-scale_None-rotation_10.h5 ,Tooth sample : 29.11.92.nii,meanIOU : 0.8850363 , Accuracy : 0.9279947 , Precision : 0.8398761, Recall: 0.94758785, Binary cross entropy : 0.13259809\n",
      "root        : DEBUG    Model: UNET3D-ToothSegmentation-scale_None-rotation_10.h5 ,Tooth sample : 29.11.92.nii,meanIOU : 0.8850363 , Accuracy : 0.9279947 , Precision : 0.8398761, Recall: 0.94758785, Binary cross entropy : 0.13259809\n",
      "root        : DEBUG    Model: UNET3D-ToothSegmentation-scale_None-rotation_10.h5 ,Tooth sample : 29.11.92.nii,meanIOU : 0.8850363 , Accuracy : 0.9279947 , Precision : 0.8398761, Recall: 0.94758785, Binary cross entropy : 0.13259809\n",
      "root        : DEBUG    Model: UNET3D-ToothSegmentation-scale_None-rotation_10.h5 ,Tooth sample : 29.11.92.nii,meanIOU : 0.8850363 , Accuracy : 0.9279947 , Precision : 0.8398761, Recall: 0.94758785, Binary cross entropy : 0.13259809\n",
      "root        : DEBUG    Model: UNET3D-ToothSegmentation-scale_None-rotation_10.h5 ,Tooth sample : 29.11.92.nii,meanIOU : 0.8850363 , Accuracy : 0.9279947 , Precision : 0.8398761, Recall: 0.94758785, Binary cross entropy : 0.13259809\n",
      "root        : DEBUG    Model: UNET3D-ToothSegmentation-scale_None-rotation_10.h5 ,Tooth sample : 29.11.92.nii,meanIOU : 0.8850363 , Accuracy : 0.9279947 , Precision : 0.8398761, Recall: 0.94758785, Binary cross entropy : 0.13259809\n",
      "root        : DEBUG    Model: UNET3D-ToothSegmentation-scale_None-rotation_10.h5 ,Tooth sample : 29.11.92.nii,meanIOU : 0.8850363 , Accuracy : 0.9279947 , Precision : 0.8398761, Recall: 0.94758785, Binary cross entropy : 0.13259809\n",
      "root        : DEBUG    Model: UNET3D-ToothSegmentation-scale_None-rotation_10.h5 ,Tooth sample : 29.11.92.nii,meanIOU : 0.8850363 , Accuracy : 0.9279947 , Precision : 0.8398761, Recall: 0.94758785, Binary cross entropy : 0.13259809\n",
      "root        : DEBUG    Model: UNET3D-ToothSegmentation-scale_None-rotation_10.h5 ,Tooth sample : 29.11.92.nii,meanIOU : 0.8850363 , Accuracy : 0.9279947 , Precision : 0.8398761, Recall: 0.94758785, Binary cross entropy : 0.13259809\n"
     ]
    },
    {
     "name": "stdout",
     "output_type": "stream",
     "text": [
      "meanIOU 0.8850363 Accuracy 0.9279947 Precision 0.8398761 Recall 0.94758785  Binary cross entropy 0.13259809\n"
     ]
    },
    {
     "data": {
      "application/vnd.jupyter.widget-view+json": {
       "model_id": "a7e32324b1a642089c294389de5ee7dc",
       "version_major": 2,
       "version_minor": 0
      },
      "text/plain": [
       "Renderer(camera=PerspectiveCamera(children=(DirectionalLight(color='white', intensity=0.6, position=(44.600000…"
      ]
     },
     "metadata": {},
     "output_type": "display_data"
    },
    {
     "data": {
      "text/plain": [
       "(array([[[[[1096.56418659],\n",
       "           [1098.7562069 ],\n",
       "           [1045.38949336],\n",
       "           ...,\n",
       "           [ 284.14585992],\n",
       "           [ 287.97049752],\n",
       "           [ 320.26375292]],\n",
       " \n",
       "          [[1045.46946743],\n",
       "           [1043.08011014],\n",
       "           [1031.06808873],\n",
       "           ...,\n",
       "           [ 279.19730383],\n",
       "           [ 320.9938076 ],\n",
       "           [ 341.19081781]],\n",
       " \n",
       "          [[ 965.886849  ],\n",
       "           [1020.061967  ],\n",
       "           [1039.92704598],\n",
       "           ...,\n",
       "           [ 348.16808478],\n",
       "           [ 363.74791356],\n",
       "           [ 354.88273159]],\n",
       " \n",
       "          ...,\n",
       " \n",
       "          [[  87.27733286],\n",
       "           [ 136.50564149],\n",
       "           [ 160.84165302],\n",
       "           ...,\n",
       "           [ 242.03409083],\n",
       "           [ 263.7306867 ],\n",
       "           [ 275.52095467]],\n",
       " \n",
       "          [[ 113.3438256 ],\n",
       "           [ 127.05752877],\n",
       "           [ 153.42869741],\n",
       "           ...,\n",
       "           [ 237.51710148],\n",
       "           [ 262.18002826],\n",
       "           [ 292.58046348]],\n",
       " \n",
       "          [[ 137.20148458],\n",
       "           [ 123.0089312 ],\n",
       "           [ 142.00088336],\n",
       "           ...,\n",
       "           [ 285.12457939],\n",
       "           [ 319.50774474],\n",
       "           [ 318.71880048]]],\n",
       " \n",
       " \n",
       "         [[[1098.04013283],\n",
       "           [1098.85185167],\n",
       "           [1078.38264868],\n",
       "           ...,\n",
       "           [ 219.50981265],\n",
       "           [ 255.48657387],\n",
       "           [ 268.87257407]],\n",
       " \n",
       "          [[1090.43870229],\n",
       "           [1110.20754766],\n",
       "           [1156.2071006 ],\n",
       "           ...,\n",
       "           [ 293.9279638 ],\n",
       "           [ 308.43409904],\n",
       "           [ 382.7590956 ]],\n",
       " \n",
       "          [[1071.00136716],\n",
       "           [1108.4586288 ],\n",
       "           [1110.44325946],\n",
       "           ...,\n",
       "           [ 330.04711656],\n",
       "           [ 337.60164336],\n",
       "           [ 365.09338585]],\n",
       " \n",
       "          ...,\n",
       " \n",
       "          [[ 134.14821348],\n",
       "           [ 153.0652638 ],\n",
       "           [ 173.73100248],\n",
       "           ...,\n",
       "           [ 288.63169898],\n",
       "           [ 306.72735735],\n",
       "           [ 245.48792674]],\n",
       " \n",
       "          [[ 176.35618802],\n",
       "           [ 177.15146687],\n",
       "           [ 178.44677094],\n",
       "           ...,\n",
       "           [ 268.78765827],\n",
       "           [ 235.06640079],\n",
       "           [ 244.25141565]],\n",
       " \n",
       "          [[ 179.1932715 ],\n",
       "           [ 169.62477712],\n",
       "           [ 185.9167133 ],\n",
       "           ...,\n",
       "           [ 276.15114416],\n",
       "           [ 278.99786421],\n",
       "           [ 283.94990418]]],\n",
       " \n",
       " \n",
       "         [[[ 988.60577664],\n",
       "           [ 995.01701749],\n",
       "           [ 989.97130509],\n",
       "           ...,\n",
       "           [ 237.7612955 ],\n",
       "           [ 263.42169295],\n",
       "           [ 297.06328231]],\n",
       " \n",
       "          [[ 959.54551159],\n",
       "           [ 940.03889817],\n",
       "           [ 930.80513954],\n",
       "           ...,\n",
       "           [ 318.16445279],\n",
       "           [ 330.7134277 ],\n",
       "           [ 344.508397  ]],\n",
       " \n",
       "          [[ 995.19771785],\n",
       "           [ 963.83209869],\n",
       "           [ 941.18161461],\n",
       "           ...,\n",
       "           [ 377.64079085],\n",
       "           [ 381.71553763],\n",
       "           [ 355.43697939]],\n",
       " \n",
       "          ...,\n",
       " \n",
       "          [[ 166.68564577],\n",
       "           [ 199.58188181],\n",
       "           [ 200.73647213],\n",
       "           ...,\n",
       "           [ 281.83200817],\n",
       "           [ 306.61231987],\n",
       "           [ 323.14434652]],\n",
       " \n",
       "          [[ 166.85989066],\n",
       "           [ 182.99334839],\n",
       "           [ 168.56371521],\n",
       "           ...,\n",
       "           [ 258.03332963],\n",
       "           [ 260.39901853],\n",
       "           [ 300.9696711 ]],\n",
       " \n",
       "          [[ 122.75855258],\n",
       "           [ 171.13743612],\n",
       "           [ 153.70954851],\n",
       "           ...,\n",
       "           [ 262.08578006],\n",
       "           [ 273.96711499],\n",
       "           [ 326.21749892]]],\n",
       " \n",
       " \n",
       "         ...,\n",
       " \n",
       " \n",
       "         [[[ 178.26368144],\n",
       "           [ 146.9682774 ],\n",
       "           [ 160.04607711],\n",
       "           ...,\n",
       "           [ 283.64542545],\n",
       "           [ 311.39348197],\n",
       "           [ 348.38490821]],\n",
       " \n",
       "          [[ 174.27910771],\n",
       "           [ 176.15841296],\n",
       "           [ 184.57305403],\n",
       "           ...,\n",
       "           [ 308.405227  ],\n",
       "           [ 340.64694373],\n",
       "           [ 325.8854158 ]],\n",
       " \n",
       "          [[ 190.7798734 ],\n",
       "           [ 213.46184527],\n",
       "           [ 235.50254476],\n",
       "           ...,\n",
       "           [ 273.7209387 ],\n",
       "           [ 309.22689984],\n",
       "           [ 336.73379377]],\n",
       " \n",
       "          ...,\n",
       " \n",
       "          [[ 223.05928565],\n",
       "           [ 268.15634555],\n",
       "           [ 314.55181117],\n",
       "           ...,\n",
       "           [ 423.05154808],\n",
       "           [ 435.10978012],\n",
       "           [ 444.63201841]],\n",
       " \n",
       "          [[ 303.3787747 ],\n",
       "           [ 314.4002763 ],\n",
       "           [ 346.98498385],\n",
       "           ...,\n",
       "           [ 357.63345691],\n",
       "           [ 433.50790479],\n",
       "           [ 467.03703676]],\n",
       " \n",
       "          [[ 342.52158381],\n",
       "           [ 265.05878714],\n",
       "           [ 267.67118304],\n",
       "           ...,\n",
       "           [ 371.45591638],\n",
       "           [ 435.5635883 ],\n",
       "           [ 460.54412036]]],\n",
       " \n",
       " \n",
       "         [[[ 189.34631159],\n",
       "           [ 221.58683735],\n",
       "           [ 216.60809156],\n",
       "           ...,\n",
       "           [ 270.77622019],\n",
       "           [ 286.08499323],\n",
       "           [ 346.7011989 ]],\n",
       " \n",
       "          [[ 172.68785904],\n",
       "           [ 162.97845554],\n",
       "           [ 175.41851975],\n",
       "           ...,\n",
       "           [ 332.8026771 ],\n",
       "           [ 344.91259456],\n",
       "           [ 362.53470519]],\n",
       " \n",
       "          [[ 176.10640605],\n",
       "           [ 154.88834773],\n",
       "           [ 204.73406627],\n",
       "           ...,\n",
       "           [ 344.26145074],\n",
       "           [ 403.84579529],\n",
       "           [ 407.77637561]],\n",
       " \n",
       "          ...,\n",
       " \n",
       "          [[ 308.54980405],\n",
       "           [ 294.43565052],\n",
       "           [ 298.46827276],\n",
       "           ...,\n",
       "           [ 416.13288156],\n",
       "           [ 434.0099058 ],\n",
       "           [ 494.90679138]],\n",
       " \n",
       "          [[ 385.43952161],\n",
       "           [ 302.76852938],\n",
       "           [ 297.69847405],\n",
       "           ...,\n",
       "           [ 421.18127843],\n",
       "           [ 442.75125035],\n",
       "           [ 479.67252332]],\n",
       " \n",
       "          [[ 368.98969615],\n",
       "           [ 293.23454285],\n",
       "           [ 288.74174806],\n",
       "           ...,\n",
       "           [ 429.387346  ],\n",
       "           [ 489.28931757],\n",
       "           [ 509.15054743]]],\n",
       " \n",
       " \n",
       "         [[[ 282.11007067],\n",
       "           [ 251.43341124],\n",
       "           [ 221.38703752],\n",
       "           ...,\n",
       "           [ 228.88914772],\n",
       "           [ 304.18345513],\n",
       "           [ 375.4607742 ]],\n",
       " \n",
       "          [[ 245.52245748],\n",
       "           [ 206.88715221],\n",
       "           [ 204.13699047],\n",
       "           ...,\n",
       "           [ 267.62564734],\n",
       "           [ 328.31466414],\n",
       "           [ 380.91619813]],\n",
       " \n",
       "          [[ 224.93763085],\n",
       "           [ 249.69261007],\n",
       "           [ 195.51271317],\n",
       "           ...,\n",
       "           [ 337.76021526],\n",
       "           [ 358.43026201],\n",
       "           [ 410.10104271]],\n",
       " \n",
       "          ...,\n",
       " \n",
       "          [[ 273.28076611],\n",
       "           [ 279.04982811],\n",
       "           [ 312.08748678],\n",
       "           ...,\n",
       "           [ 363.46064184],\n",
       "           [ 403.91761336],\n",
       "           [ 455.60188858]],\n",
       " \n",
       "          [[ 229.29536361],\n",
       "           [ 236.95409976],\n",
       "           [ 257.50225565],\n",
       "           ...,\n",
       "           [ 450.87883234],\n",
       "           [ 475.89665916],\n",
       "           [ 470.064861  ]],\n",
       " \n",
       "          [[ 202.83728639],\n",
       "           [ 231.831146  ],\n",
       "           [ 244.32396256],\n",
       "           ...,\n",
       "           [ 431.54452462],\n",
       "           [ 444.9280126 ],\n",
       "           [ 451.63017852]]]]]),\n",
       " array([[[0., 0., 0., ..., 0., 0., 0.],\n",
       "         [0., 0., 0., ..., 0., 0., 0.],\n",
       "         [0., 0., 0., ..., 0., 0., 0.],\n",
       "         ...,\n",
       "         [0., 0., 0., ..., 0., 0., 0.],\n",
       "         [0., 0., 0., ..., 0., 0., 0.],\n",
       "         [0., 0., 0., ..., 0., 0., 0.]],\n",
       " \n",
       "        [[0., 0., 0., ..., 0., 0., 0.],\n",
       "         [0., 0., 0., ..., 0., 0., 0.],\n",
       "         [0., 0., 0., ..., 0., 0., 0.],\n",
       "         ...,\n",
       "         [0., 0., 0., ..., 0., 0., 0.],\n",
       "         [0., 0., 0., ..., 0., 0., 0.],\n",
       "         [0., 0., 0., ..., 0., 0., 0.]],\n",
       " \n",
       "        [[0., 0., 0., ..., 0., 0., 0.],\n",
       "         [0., 0., 0., ..., 0., 0., 0.],\n",
       "         [0., 0., 0., ..., 0., 0., 0.],\n",
       "         ...,\n",
       "         [0., 0., 0., ..., 0., 0., 0.],\n",
       "         [0., 0., 0., ..., 0., 0., 0.],\n",
       "         [0., 0., 0., ..., 0., 0., 0.]],\n",
       " \n",
       "        ...,\n",
       " \n",
       "        [[0., 0., 0., ..., 0., 0., 0.],\n",
       "         [0., 0., 0., ..., 0., 0., 0.],\n",
       "         [0., 0., 0., ..., 0., 0., 0.],\n",
       "         ...,\n",
       "         [0., 0., 0., ..., 0., 0., 0.],\n",
       "         [0., 0., 0., ..., 0., 0., 0.],\n",
       "         [0., 0., 0., ..., 0., 0., 0.]],\n",
       " \n",
       "        [[0., 0., 0., ..., 0., 0., 0.],\n",
       "         [0., 0., 0., ..., 0., 0., 0.],\n",
       "         [0., 0., 0., ..., 0., 0., 0.],\n",
       "         ...,\n",
       "         [0., 0., 0., ..., 0., 0., 0.],\n",
       "         [0., 0., 0., ..., 0., 0., 0.],\n",
       "         [0., 0., 0., ..., 0., 0., 0.]],\n",
       " \n",
       "        [[0., 0., 0., ..., 0., 0., 0.],\n",
       "         [0., 0., 0., ..., 0., 0., 0.],\n",
       "         [0., 0., 0., ..., 0., 0., 0.],\n",
       "         ...,\n",
       "         [0., 0., 0., ..., 0., 0., 0.],\n",
       "         [0., 0., 0., ..., 0., 0., 0.],\n",
       "         [0., 0., 0., ..., 0., 0., 0.]]]))"
      ]
     },
     "execution_count": 2,
     "metadata": {},
     "output_type": "execute_result"
    }
   ],
   "source": [
    "def resize_data(image,shape=(40,40,80)):\n",
    "\n",
    "    resize_image = resize(rescale(image, 1,anti_aliasing=False), shape, anti_aliasing=True) #inputs.get_fdata()[5:45, 5: 45, 10:90]   \n",
    "    return (resize_image)\n",
    "\n",
    "\n",
    "def dice_coeff(y_true, y_pred):\n",
    "    smooth = 1.\n",
    "    # Flatten\n",
    "    y_true_f = tf.reshape(y_true, [-1])\n",
    "    y_pred_f = tf.reshape(y_pred, [-1])\n",
    "    intersection = tf.reduce_sum(y_true_f * y_pred_f)\n",
    "    score = (2. * intersection + smooth) / (tf.reduce_sum(y_true_f) + tf.reduce_sum(y_pred_f) + smooth)\n",
    "    return score\n",
    "\n",
    "def print_metrics(mask,pred_mask,model,niiImage ):\n",
    "    \n",
    "    m = MeanIoU(num_classes=2)\n",
    "    m.update_state(mask.flatten(), pred_mask.flatten())\n",
    "\n",
    "\n",
    "    m2 = BinaryCrossentropy()\n",
    "    m2.update_state(mask.flatten(), pred_mask.flatten())\n",
    "\n",
    " #   m3 = dice_coeff(resize_mask,pred_mask) \n",
    "\n",
    "    m4 = Accuracy()\n",
    "    m4.update_state(mask.flatten(), pred_mask.flatten())\n",
    "\n",
    "    m5 = Precision()\n",
    "    m5.update_state(mask.flatten(), pred_mask.flatten())\n",
    "\n",
    "    m6 = Recall()\n",
    "    m6.update_state(mask.flatten(), pred_mask.flatten())\n",
    "\n",
    "    \n",
    "    print(\"meanIOU\",m.result().numpy(),\"Accuracy\",m4.result().numpy(),\n",
    "         \"Precision\", m5.result().numpy(),\"Recall\",m6.result().numpy(),\" Binary cross entropy\",m2.result().numpy())\n",
    "    \n",
    "     # create logger\n",
    "        \n",
    "    logging.debug('Model: %s ,Tooth sample : %s,meanIOU : %s , Accuracy : %s , Precision : %s, Recall: %s, Binary cross entropy : %s',model, niiImage ,m.result().numpy(),m4.result().numpy(),\n",
    "         m5.result().numpy(),m6.result().numpy() ,m2.result().numpy())\n",
    "    # define a Handler which writes INFO messages or higher to the sys.stderr\n",
    "    return None\n",
    "\n",
    "import logging\n",
    "from skimage.measure import marching_cubes_lewiner\n",
    "import meshplot as mp\n",
    "\n",
    "def test():\n",
    "    for m in os.listdir('model/UNET3D/UNET3D-ToothSegmentation-MSE1/'):    \n",
    "        print(m)\n",
    "        model = load_model('model/UNET3D/UNET3D-ToothSegmentation-MSE1/' + m)\n",
    "\n",
    "        for niiImage in os.listdir(data_dir_test_image):\n",
    "\n",
    "                inputs = nib.load( os.path.join(data_dir_test_image, niiImage)).get_fdata()   \n",
    "                mask = nib.load( os.path.join(data_dir_test_mask, niiImage)).get_fdata() \n",
    "\n",
    "                print(inputs.shape)\n",
    "                logging.basicConfig(level=logging.DEBUG,\n",
    "                        format='%(asctime)s %(levelname)s %(message)s',\n",
    "                        filename='myapp.log',\n",
    "                        filemode='a')\n",
    "              \n",
    "               \n",
    "                console = logging.StreamHandler()\n",
    "                console.setLevel(logging.DEBUG)\n",
    "                # set a format which is simpler for console use\n",
    "                formatter = logging.Formatter('%(name)-12s: %(levelname)-8s %(message)s')\n",
    "                # tell the handler to use this format\n",
    "                console.setFormatter(formatter)\n",
    "                # add the handler to the root logger\n",
    "                logging.getLogger('').addHandler(console)\n",
    "\n",
    "\n",
    "                resize_image = resize(inputs, (40, 40, 80), anti_aliasing=True)\n",
    "                resize_mask = resize(mask, (40, 40, 80), anti_aliasing=True)\n",
    "\n",
    "                img_np = np.rollaxis(np.array(np.array([np.array([np.array(resize_image)]) ])),0,5)\n",
    "\n",
    "                pred = model.predict(img_np) > 0.5\n",
    "                pred_mask  = resize_data(np.transpose(np.transpose(pred[0])[0]),mask.shape) \n",
    "\n",
    "\n",
    "                img = nib.Nifti1Image(pred_mask, np.eye(4))\n",
    "                if os.path.isdir('segmented-volume/'+m+'/'):\n",
    "                    nib.save(img, os.path.join('segmented-volume/'+m+'/', niiImage))  \n",
    "                else:\n",
    "                    directory = os.mkdir('segmented-volume/'+m+'/')\n",
    "\n",
    "                x = print_metrics(mask,pred_mask,str(m),niiImage)\n",
    "\n",
    "\n",
    "                vertices,faces,_,_ = marching_cubes_lewiner(pred_mask)\n",
    "\n",
    "                mp.plot(vertices, faces, return_plot=False)\n",
    "\n",
    "    return (img_np,pred_mask)\n",
    "\n",
    "test()"
   ]
  },
  {
   "cell_type": "code",
   "execution_count": 3,
   "metadata": {},
   "outputs": [
    {
     "name": "stderr",
     "output_type": "stream",
     "text": [
      "Falling back to the 'python' engine because the 'c' engine does not support regex separators (separators > 1 char and different from '\\s+' are interpreted as regex); you can avoid this warning by specifying engine='python'.\n"
     ]
    },
    {
     "data": {
      "text/html": [
       "<div>\n",
       "<style scoped>\n",
       "    .dataframe tbody tr th:only-of-type {\n",
       "        vertical-align: middle;\n",
       "    }\n",
       "\n",
       "    .dataframe tbody tr th {\n",
       "        vertical-align: top;\n",
       "    }\n",
       "\n",
       "    .dataframe thead th {\n",
       "        text-align: right;\n",
       "    }\n",
       "</style>\n",
       "<table border=\"1\" class=\"dataframe\">\n",
       "  <thead>\n",
       "    <tr style=\"text-align: right;\">\n",
       "      <th></th>\n",
       "      <th></th>\n",
       "      <th></th>\n",
       "      <th>meanIOU</th>\n",
       "      <th>Accuracy</th>\n",
       "      <th>Precision</th>\n",
       "      <th>Recall</th>\n",
       "      <th>Binary cross entropy</th>\n",
       "    </tr>\n",
       "    <tr>\n",
       "      <th>Sample</th>\n",
       "      <th>Scale</th>\n",
       "      <th>Rotation</th>\n",
       "      <th></th>\n",
       "      <th></th>\n",
       "      <th></th>\n",
       "      <th></th>\n",
       "      <th></th>\n",
       "    </tr>\n",
       "  </thead>\n",
       "  <tbody>\n",
       "    <tr>\n",
       "      <th rowspan=\"8\" valign=\"top\">14.8.93.nii</th>\n",
       "      <th rowspan=\"2\" valign=\"top\">0.25</th>\n",
       "      <th>10</th>\n",
       "      <td>0.695390</td>\n",
       "      <td>0.863644</td>\n",
       "      <td>0.799946</td>\n",
       "      <td>0.631646</td>\n",
       "      <td>1.064528</td>\n",
       "    </tr>\n",
       "    <tr>\n",
       "      <th>None</th>\n",
       "      <td>0.716429</td>\n",
       "      <td>0.864595</td>\n",
       "      <td>0.780896</td>\n",
       "      <td>0.676934</td>\n",
       "      <td>1.002169</td>\n",
       "    </tr>\n",
       "    <tr>\n",
       "      <th rowspan=\"2\" valign=\"top\">0.5</th>\n",
       "      <th>10</th>\n",
       "      <td>0.703036</td>\n",
       "      <td>0.860019</td>\n",
       "      <td>0.769226</td>\n",
       "      <td>0.652287</td>\n",
       "      <td>1.098795</td>\n",
       "    </tr>\n",
       "    <tr>\n",
       "      <th>None</th>\n",
       "      <td>0.695139</td>\n",
       "      <td>0.855342</td>\n",
       "      <td>0.761618</td>\n",
       "      <td>0.658707</td>\n",
       "      <td>1.065558</td>\n",
       "    </tr>\n",
       "    <tr>\n",
       "      <th rowspan=\"2\" valign=\"top\">2.0</th>\n",
       "      <th>10</th>\n",
       "      <td>0.722769</td>\n",
       "      <td>0.863099</td>\n",
       "      <td>0.772593</td>\n",
       "      <td>0.698822</td>\n",
       "      <td>0.981847</td>\n",
       "    </tr>\n",
       "    <tr>\n",
       "      <th>None</th>\n",
       "      <td>0.698896</td>\n",
       "      <td>0.855868</td>\n",
       "      <td>0.764291</td>\n",
       "      <td>0.661891</td>\n",
       "      <td>1.046671</td>\n",
       "    </tr>\n",
       "    <tr>\n",
       "      <th rowspan=\"2\" valign=\"top\">None</th>\n",
       "      <th>10</th>\n",
       "      <td>0.701613</td>\n",
       "      <td>0.860684</td>\n",
       "      <td>0.784286</td>\n",
       "      <td>0.658920</td>\n",
       "      <td>1.011344</td>\n",
       "    </tr>\n",
       "    <tr>\n",
       "      <th>None</th>\n",
       "      <td>0.685591</td>\n",
       "      <td>0.857720</td>\n",
       "      <td>0.778868</td>\n",
       "      <td>0.631699</td>\n",
       "      <td>1.073150</td>\n",
       "    </tr>\n",
       "    <tr>\n",
       "      <th rowspan=\"8\" valign=\"top\">29.11.92.nii</th>\n",
       "      <th rowspan=\"2\" valign=\"top\">0.25</th>\n",
       "      <th>10</th>\n",
       "      <td>0.876613</td>\n",
       "      <td>0.935398</td>\n",
       "      <td>0.878739</td>\n",
       "      <td>0.930936</td>\n",
       "      <td>0.101618</td>\n",
       "    </tr>\n",
       "    <tr>\n",
       "      <th>None</th>\n",
       "      <td>0.893721</td>\n",
       "      <td>0.928438</td>\n",
       "      <td>0.845406</td>\n",
       "      <td>0.968312</td>\n",
       "      <td>0.106072</td>\n",
       "    </tr>\n",
       "    <tr>\n",
       "      <th rowspan=\"2\" valign=\"top\">0.5</th>\n",
       "      <th>10</th>\n",
       "      <td>0.874635</td>\n",
       "      <td>0.935420</td>\n",
       "      <td>0.891310</td>\n",
       "      <td>0.935298</td>\n",
       "      <td>0.087141</td>\n",
       "    </tr>\n",
       "    <tr>\n",
       "      <th>None</th>\n",
       "      <td>0.893823</td>\n",
       "      <td>0.926261</td>\n",
       "      <td>0.830360</td>\n",
       "      <td>0.968986</td>\n",
       "      <td>0.121567</td>\n",
       "    </tr>\n",
       "    <tr>\n",
       "      <th rowspan=\"2\" valign=\"top\">2.0</th>\n",
       "      <th>10</th>\n",
       "      <td>0.881376</td>\n",
       "      <td>0.921811</td>\n",
       "      <td>0.789412</td>\n",
       "      <td>0.955082</td>\n",
       "      <td>0.190608</td>\n",
       "    </tr>\n",
       "    <tr>\n",
       "      <th>None</th>\n",
       "      <td>0.890187</td>\n",
       "      <td>0.924531</td>\n",
       "      <td>0.836116</td>\n",
       "      <td>0.970384</td>\n",
       "      <td>0.117907</td>\n",
       "    </tr>\n",
       "    <tr>\n",
       "      <th rowspan=\"2\" valign=\"top\">None</th>\n",
       "      <th>10</th>\n",
       "      <td>0.885036</td>\n",
       "      <td>0.927995</td>\n",
       "      <td>0.839876</td>\n",
       "      <td>0.947588</td>\n",
       "      <td>0.132598</td>\n",
       "    </tr>\n",
       "    <tr>\n",
       "      <th>None</th>\n",
       "      <td>0.875893</td>\n",
       "      <td>0.933206</td>\n",
       "      <td>0.889746</td>\n",
       "      <td>0.944720</td>\n",
       "      <td>0.086682</td>\n",
       "    </tr>\n",
       "    <tr>\n",
       "      <th rowspan=\"8\" valign=\"top\">29.6.67.nii</th>\n",
       "      <th rowspan=\"2\" valign=\"top\">0.25</th>\n",
       "      <th>10</th>\n",
       "      <td>0.160242</td>\n",
       "      <td>0.224303</td>\n",
       "      <td>0.148000</td>\n",
       "      <td>1.000000</td>\n",
       "      <td>11.150045</td>\n",
       "    </tr>\n",
       "    <tr>\n",
       "      <th>None</th>\n",
       "      <td>0.292454</td>\n",
       "      <td>0.364492</td>\n",
       "      <td>0.185424</td>\n",
       "      <td>0.973283</td>\n",
       "      <td>8.127560</td>\n",
       "    </tr>\n",
       "    <tr>\n",
       "      <th rowspan=\"2\" valign=\"top\">0.5</th>\n",
       "      <th>10</th>\n",
       "      <td>0.205961</td>\n",
       "      <td>0.245232</td>\n",
       "      <td>0.157748</td>\n",
       "      <td>1.000000</td>\n",
       "      <td>10.139944</td>\n",
       "    </tr>\n",
       "    <tr>\n",
       "      <th>None</th>\n",
       "      <td>0.287469</td>\n",
       "      <td>0.344235</td>\n",
       "      <td>0.176671</td>\n",
       "      <td>0.938670</td>\n",
       "      <td>8.224020</td>\n",
       "    </tr>\n",
       "    <tr>\n",
       "      <th rowspan=\"2\" valign=\"top\">2.0</th>\n",
       "      <th>10</th>\n",
       "      <td>0.254523</td>\n",
       "      <td>0.310076</td>\n",
       "      <td>0.171193</td>\n",
       "      <td>0.998021</td>\n",
       "      <td>9.052817</td>\n",
       "    </tr>\n",
       "    <tr>\n",
       "      <th>None</th>\n",
       "      <td>0.266583</td>\n",
       "      <td>0.295124</td>\n",
       "      <td>0.171230</td>\n",
       "      <td>0.951802</td>\n",
       "      <td>8.702595</td>\n",
       "    </tr>\n",
       "    <tr>\n",
       "      <th rowspan=\"2\" valign=\"top\">None</th>\n",
       "      <th>10</th>\n",
       "      <td>0.284383</td>\n",
       "      <td>0.360144</td>\n",
       "      <td>0.179631</td>\n",
       "      <td>0.960666</td>\n",
       "      <td>8.298296</td>\n",
       "    </tr>\n",
       "    <tr>\n",
       "      <th>None</th>\n",
       "      <td>0.264229</td>\n",
       "      <td>0.284701</td>\n",
       "      <td>0.169730</td>\n",
       "      <td>0.951554</td>\n",
       "      <td>8.756887</td>\n",
       "    </tr>\n",
       "  </tbody>\n",
       "</table>\n",
       "</div>"
      ],
      "text/plain": [
       "                               meanIOU  Accuracy  Precision    Recall  \\\n",
       "Sample        Scale Rotation                                            \n",
       " 14.8.93.nii  0.25  10        0.695390  0.863644   0.799946  0.631646   \n",
       "                    None      0.716429  0.864595   0.780896  0.676934   \n",
       "              0.5   10        0.703036  0.860019   0.769226  0.652287   \n",
       "                    None      0.695139  0.855342   0.761618  0.658707   \n",
       "              2.0   10        0.722769  0.863099   0.772593  0.698822   \n",
       "                    None      0.698896  0.855868   0.764291  0.661891   \n",
       "              None  10        0.701613  0.860684   0.784286  0.658920   \n",
       "                    None      0.685591  0.857720   0.778868  0.631699   \n",
       " 29.11.92.nii 0.25  10        0.876613  0.935398   0.878739  0.930936   \n",
       "                    None      0.893721  0.928438   0.845406  0.968312   \n",
       "              0.5   10        0.874635  0.935420   0.891310  0.935298   \n",
       "                    None      0.893823  0.926261   0.830360  0.968986   \n",
       "              2.0   10        0.881376  0.921811   0.789412  0.955082   \n",
       "                    None      0.890187  0.924531   0.836116  0.970384   \n",
       "              None  10        0.885036  0.927995   0.839876  0.947588   \n",
       "                    None      0.875893  0.933206   0.889746  0.944720   \n",
       " 29.6.67.nii  0.25  10        0.160242  0.224303   0.148000  1.000000   \n",
       "                    None      0.292454  0.364492   0.185424  0.973283   \n",
       "              0.5   10        0.205961  0.245232   0.157748  1.000000   \n",
       "                    None      0.287469  0.344235   0.176671  0.938670   \n",
       "              2.0   10        0.254523  0.310076   0.171193  0.998021   \n",
       "                    None      0.266583  0.295124   0.171230  0.951802   \n",
       "              None  10        0.284383  0.360144   0.179631  0.960666   \n",
       "                    None      0.264229  0.284701   0.169730  0.951554   \n",
       "\n",
       "                              Binary cross entropy  \n",
       "Sample        Scale Rotation                        \n",
       " 14.8.93.nii  0.25  10                    1.064528  \n",
       "                    None                  1.002169  \n",
       "              0.5   10                    1.098795  \n",
       "                    None                  1.065558  \n",
       "              2.0   10                    0.981847  \n",
       "                    None                  1.046671  \n",
       "              None  10                    1.011344  \n",
       "                    None                  1.073150  \n",
       " 29.11.92.nii 0.25  10                    0.101618  \n",
       "                    None                  0.106072  \n",
       "              0.5   10                    0.087141  \n",
       "                    None                  0.121567  \n",
       "              2.0   10                    0.190608  \n",
       "                    None                  0.117907  \n",
       "              None  10                    0.132598  \n",
       "                    None                  0.086682  \n",
       " 29.6.67.nii  0.25  10                   11.150045  \n",
       "                    None                  8.127560  \n",
       "              0.5   10                   10.139944  \n",
       "                    None                  8.224020  \n",
       "              2.0   10                    9.052817  \n",
       "                    None                  8.702595  \n",
       "              None  10                    8.298296  \n",
       "                    None                  8.756887  "
      ]
     },
     "execution_count": 3,
     "metadata": {},
     "output_type": "execute_result"
    }
   ],
   "source": [
    "import pandas as pd\n",
    "\n",
    "\n",
    "df = pd.read_table('myapp.log',',|:|-|_|.h5',header=None  )  \n",
    "df=df.drop(df.columns[[0,1,2,3,4,5,6,7,8,10,12,13,15,17,19,21,23]],axis=1)\n",
    "df\n",
    "df.columns=['Scale','Rotation', 'Sample', 'meanIOU','Accuracy', 'Precision','Recall','Binary cross entropy']\n",
    "df\n",
    "gk = df.groupby(['Sample','Scale','Rotation'],axis=0).mean()\n",
    "gk"
   ]
  },
  {
   "cell_type": "code",
   "execution_count": 4,
   "metadata": {},
   "outputs": [
    {
     "name": "stderr",
     "output_type": "stream",
     "text": [
      "Falling back to the 'python' engine because the 'c' engine does not support regex separators (separators > 1 char and different from '\\s+' are interpreted as regex); you can avoid this warning by specifying engine='python'.\n"
     ]
    },
    {
     "data": {
      "text/html": [
       "<div>\n",
       "<style scoped>\n",
       "    .dataframe tbody tr th:only-of-type {\n",
       "        vertical-align: middle;\n",
       "    }\n",
       "\n",
       "    .dataframe tbody tr th {\n",
       "        vertical-align: top;\n",
       "    }\n",
       "\n",
       "    .dataframe thead th {\n",
       "        text-align: right;\n",
       "    }\n",
       "</style>\n",
       "<table border=\"1\" class=\"dataframe\">\n",
       "  <thead>\n",
       "    <tr style=\"text-align: right;\">\n",
       "      <th></th>\n",
       "      <th>meanIOU</th>\n",
       "      <th>Accuracy</th>\n",
       "      <th>Precision</th>\n",
       "      <th>Recall</th>\n",
       "      <th>Binary cross entropy</th>\n",
       "    </tr>\n",
       "    <tr>\n",
       "      <th>Sample</th>\n",
       "      <th></th>\n",
       "      <th></th>\n",
       "      <th></th>\n",
       "      <th></th>\n",
       "      <th></th>\n",
       "    </tr>\n",
       "  </thead>\n",
       "  <tbody>\n",
       "    <tr>\n",
       "      <th>14.8.93.nii</th>\n",
       "      <td>0.702358</td>\n",
       "      <td>0.860122</td>\n",
       "      <td>0.776466</td>\n",
       "      <td>0.658863</td>\n",
       "      <td>1.043008</td>\n",
       "    </tr>\n",
       "    <tr>\n",
       "      <th>29.11.92.nii</th>\n",
       "      <td>0.883910</td>\n",
       "      <td>0.929132</td>\n",
       "      <td>0.850121</td>\n",
       "      <td>0.952663</td>\n",
       "      <td>0.118024</td>\n",
       "    </tr>\n",
       "    <tr>\n",
       "      <th>29.6.67.nii</th>\n",
       "      <td>0.251980</td>\n",
       "      <td>0.303538</td>\n",
       "      <td>0.169953</td>\n",
       "      <td>0.971750</td>\n",
       "      <td>9.056520</td>\n",
       "    </tr>\n",
       "  </tbody>\n",
       "</table>\n",
       "</div>"
      ],
      "text/plain": [
       "                meanIOU  Accuracy  Precision    Recall  Binary cross entropy\n",
       "Sample                                                                      \n",
       " 14.8.93.nii   0.702358  0.860122   0.776466  0.658863              1.043008\n",
       " 29.11.92.nii  0.883910  0.929132   0.850121  0.952663              0.118024\n",
       " 29.6.67.nii   0.251980  0.303538   0.169953  0.971750              9.056520"
      ]
     },
     "execution_count": 4,
     "metadata": {},
     "output_type": "execute_result"
    }
   ],
   "source": [
    "\n",
    "df = pd.read_table('myapp.log',',|:|-|_|.h5',header=None  )  \n",
    "df=df.drop(df.columns[[0,1,2,3,4,5,6,7,8,10,12,13,15,17,19,21,23]],axis=1)\n",
    "df\n",
    "df.columns=['Scale','Rotation', 'Sample', 'meanIOU','Accuracy', 'Precision','Recall','Binary cross entropy']\n",
    "df\n",
    "gk = df.groupby(['Sample'],axis=0).mean()\n",
    "gk"
   ]
  },
  {
   "cell_type": "code",
   "execution_count": null,
   "metadata": {},
   "outputs": [],
   "source": []
  },
  {
   "cell_type": "code",
   "execution_count": null,
   "metadata": {},
   "outputs": [],
   "source": []
  }
 ],
 "metadata": {
  "kernelspec": {
   "display_name": "Python 3",
   "language": "python",
   "name": "python3"
  },
  "language_info": {
   "codemirror_mode": {
    "name": "ipython",
    "version": 3
   },
   "file_extension": ".py",
   "mimetype": "text/x-python",
   "name": "python",
   "nbconvert_exporter": "python",
   "pygments_lexer": "ipython3",
   "version": "3.7.7"
  }
 },
 "nbformat": 4,
 "nbformat_minor": 4
}
